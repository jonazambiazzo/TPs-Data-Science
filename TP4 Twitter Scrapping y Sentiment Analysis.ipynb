{
 "cells": [
  {
   "cell_type": "markdown",
   "metadata": {},
   "source": [
    "#### <center> DATA SCIENCE FINAL PROJECT\n",
    "\n",
    "# <center> Text mining on a Social Media Network"
   ]
  },
  {
   "cell_type": "markdown",
   "metadata": {},
   "source": [
    "<center> Catala, Ramiro - Nasca, M. Federico - Zambiazzo, Jonathan\n",
    "    \n",
    "<center> catala.ramiro@gmail.com   -    fedenasca@gmail.com   -   jzambiazzo@gmail.com"
   ]
  },
  {
   "cell_type": "markdown",
   "metadata": {},
   "source": [
    "Fecha: 18-Dic-2018"
   ]
  },
  {
   "cell_type": "markdown",
   "metadata": {},
   "source": [
    "<center>  **_RESUMEN_**"
   ]
  },
  {
   "cell_type": "markdown",
   "metadata": {},
   "source": [
    "<center> _En los últimos años, los servicios de redes sociales han acelerado el intercambio de información entre muchos usuarios en todo el mundo. En el caso particular de Twitter, todos los días se publican millones de tweets que reflejan las opiniones y creencias de sus editores y también afectan a otros. La gran cantidad de información recolectada en Twitter presenta una oportunidad invaluable para analistas que a través de herramientas de minería de datos pueden realizar valiosos análisis sociológicos. Este trabajo aborda, un paso a paso, la recolección de información a través de APIs que ofrece Twitter a sus clientes usando herramientas de Python, tomando como temática el proyecto de despenalización y legalización del aborto que se votó en Argentina a mediados del 2018._<center> "
   ]
  },
  {
   "cell_type": "markdown",
   "metadata": {},
   "source": [
    "**Palabras claves**: Minería de texto, Redes Sociales, Análisis de Sentimientos, Twitter, Python, Aborto."
   ]
  },
  {
   "cell_type": "markdown",
   "metadata": {},
   "source": [
    "<center>  **_ABSTRAC_**"
   ]
  },
  {
   "cell_type": "markdown",
   "metadata": {},
   "source": [
    "<center> _In last years, social networking services have increased the exchange of information among many users around the world. Particularly in Twitter, millions of tweets are posted every day, showing the opinions and beliefs of its authors and also the influences to others. The large amount of information collected on Twitter presents an invaluable opportunity for analysts, who can perform valuable social analyzes using data mining tools. This report shows, step by step, the information collected through Twitter APIs, using text mining tools of Python, which is related to the abortion decriminalization and legalization project carried out in Argentina in 2018._<center> "
   ]
  },
  {
   "cell_type": "markdown",
   "metadata": {},
   "source": [
    "**key words**: Text Mining, Social Network, Sentiment Análysis, Twitter, Python, Abortion."
   ]
  },
  {
   "cell_type": "markdown",
   "metadata": {},
   "source": [
    "## Contenidos\n",
    "\n",
    "\n",
    "#### 1. Introducción \n",
    "    1.1. Motivación\n",
    "    1.2. Alcance\n",
    "    1.3. Objetivos\n",
    "    1.4. Estructura del documento\n",
    "    \n",
    "#### 2. Conceptos previos \n",
    "    2.1. Text mining\n",
    "    2.2. Análisis de sentimientos\n",
    "    2.3. Twitter\n",
    "\n",
    "#### 3. Metodología\n",
    "    3.1. Etapas del proyecto\n",
    "    3.2. Herramientas usadas\n",
    "\n",
    "\n",
    "#### 4. Desarrollo\n",
    "\n",
    "    4.1. RECOPILACIÓN DE DATOS \n",
    "        4.1.1. Registro de aplicación - Proceso de autorización\n",
    "        4.1.2. Acceso a los datos\n",
    "        4.1.3. Estructura de un tweet\n",
    "        4.1.4. Almacenamiento de datos\n",
    "        \n",
    "    4.2. PREPORCESAMIENTO DE TEXTO\n",
    "        4.2.1. Exploración de datos\n",
    "        4.2.2. Normalización\n",
    "        4.2.3. Tokenización de Tweets y remoción de \"stop-words\"\n",
    "    \n",
    "    4.3. ANÁLISIS\n",
    "        4.3.1. Frecuencia de términos\n",
    "        4.3.2. Análisis de subtópicos\n",
    "        4.3.3. Análisis de sentimientos\n",
    "        4.3.4. Geolocalización\n",
    "\n",
    "  \n",
    "#### 5. Conclusión\n",
    "\n",
    "#### Recursos usados\n",
    "\n",
    "#### Glosario"
   ]
  },
  {
   "cell_type": "markdown",
   "metadata": {},
   "source": [
    "## 1. Introducción"
   ]
  },
  {
   "cell_type": "markdown",
   "metadata": {},
   "source": [
    "En el segundo trimestre de 2015, Facebook reportó casi 1,5 billones de usuarios activos mensuales. En 2013, Twitter había reportado un volumen de más de 500 millones de tweets por día. En una escala menor, pero sin duda de interés para programadores, en 2015, Stack Overflow anunció que se habían realizado más de 10 millones de preguntas de programación en su plataforma desde que se abrió el sitio web.\n",
    "Estos números son sólo la punta del iceberg cuando describen cómo la popularidad de las redes sociales ha crecido exponencialmente con más usuarios que comparten más y más información a través de diferentes plataformas. Esta riqueza de datos proporciona oportunidades únicas para aplicar técnicas de Data Mining. El propósito de este trabajo es usar las API de Twitter para recopilar datos con el fin generar _insights_ a partir de tweets relacionados a la temática particular del  aborto, la cual concentró la atención de todo el país durante el año 2018."
   ]
  },
  {
   "cell_type": "markdown",
   "metadata": {},
   "source": [
    ">### 1.1. Motivación\n",
    "\n",
    "En el marco del Proyecto Final del curso de _Data Science_, se propone realizar un estudio de analítica aplicando técnicas de _Text Mining_ (o Minería de Texto).\n",
    "\n",
    "**¿Por qué Text Mining?**\n",
    "\n",
    "Hoy en día, se maneja cada vez más información en formatos no estructurados o semiestructurados, como mensajes de correo electrónico, notas de los centros de servicio al cliente, respuestas de encuestas con final abierto, fuentes de noticias, formularios web, etc. Ante esta abundancia de información, el Text Mining aborda el problema que se presenta a la hora de preguntarse cómo recopilar, explorar y aprovechar toda esa información. Por ello, creemos que es importante dominar algunas de sus técnicas en un contexto de aprendizaje de _Data Mininig_. \n",
    "\n",
    "**¿Por qué Text Mining de Redes Sociales?**\n",
    "\n",
    "Como las redes sociales son hoy en día una de las principales fuentes de difusión de información de los diferentes eventos que ocurren, nos centraremos en ellas. \n",
    "\n",
    "Por otro lado, y siendo más específicos, el ascenso de los medios sociales tales como blogs y redes sociales ha alimentado el interés en el análisis de sentimientos. Con la difusión de críticas, calificaciones, recomendaciones y otras formas de expresión en la web, la opinión on-line se ha convertido en una especie de divisa virtual para negocios que buscan comercializar sus productos, identificar nuevas oportunidades y manejar sus reputaciones. Debido a que los negocios intentan automatizar el proceso de filtrar el ruido, entender las conversaciones, identificar el contenido relevante y actuar apropiadamente, es muy interesante estudiar el campo de análisis de sentimientos.\n",
    "\n",
    "**¿Por qué Text Mining de la Red Social Twitter?**\n",
    "\n",
    "En particular, analizaremos Twitter por su simplicidad, inmediatez y facilidad a la hora de acceder a la información de un tweet y su metadata asociada. \n",
    "\n",
    "Por otro lado, el análisis de sentimientos aplicado al microblogging ha mostrado que Twitter puede ser visto como un indicador on-line válido de sentimientos. Los sentimientos políticos de los tweets demuestran una correspondencia cercana con las posiciones políticas de los partidos y personas políticas, por lo que el contenido de los mensajes de Twitter refleja plausiblemente el paisaje político de ese momento (Tumasjan, Andranik; O.Sprenger, Timm; G.Sandner, Philipp; M.Welpe, Isabell (2010). \"Predicting Elections with Twitter: What 140 Characters Reveal about Political Sentiment\". \"Proceedings of the Fourth International AAAI Conference on Weblogs and Social Media\")\n",
    "\n",
    "**¿Por qué Text Mining entorno al debate del aborto?**\n",
    "\n",
    "Para la elección de la temática de análisis, se consideraron los temas de mayor repercusión en las redes sociales.  Provechosamente, Twitter y Facebook analizaron las activdades on-line de los argentinos y elaboraron un anuario 2018. Allí, se destacan las conversaciones por el Día de la Mujer, la Copa del Mundo de Rusia 2018 y los debates políticos con hashtag y menciones sobre el aborto (Fuente:_Aborto, fútbol y premios Oscar, lo más comentado en Facebook y Twitter en 2018 en la Argentina_ - URL: \"https://www.lanacion.com.ar/2199953-debate-aborto-futbol-premios-oscar-lo-mas Copyright © LA NACION). \n",
    "\n",
    "Teniendo en cuenta las temáticas mencionadas, parece más acotado, específico y con dos posturas bien diferenciadas, abordar la temática del aborto. \n",
    "\n",
    "En Argentina, la discusión del aborto despertó un crucial debate y movilizaciones masivas durante el tratamiento del proyecto de ley para su despenalización (o no) en el Congreso de legisladores, a tal punto que tuvo una enorme repercusión en los medios internacionales; no sólo los tradicionales, sino también los científicos y de interés medicinal. El resultado de la votación del proyecto de ley ocupó la primera plana de los principales sitios estadounidenses y europeos (The New York Times, The Wall Street Journal, CNN -Estados Unidos, The Guardian, BBC - Gran Bretaña, El País - España, etc.) y, aún hoy, es un tema de debate vigente en la sociedad."
   ]
  },
  {
   "cell_type": "markdown",
   "metadata": {},
   "source": [
    ">### 1.2. Alcance \n",
    "\n",
    "El alcance de este trabajo se limita a las tareas básicas de text mining (_Data collection, Data cleaning and pre-processing, Modeling and analysis, and Result presentation_) sobre tweets existentes, es decir, los tweets que ya se han publicado y están disponibles para la búsqueda (a diferencia de búsquedas tipo _streaming_).\n",
    "\n",
    "Por otro lado, la recopilación de tweets presenta limitaciones debido a propias restricciones de las APIs de Twitter, ya sea, límites de cantidad de _requests_ por usuario (o para ser más precisos, por token de acceso), y restricciones sobre la fecha de búsqueda. Debido a la metodología utlizada, los tweets más antiguos a una semana no podrán ser obtenidos, y tal vez esto limite la riqueza de la información recopilada ya que el debate por la legalización del aborto tomó máyor volumen en las redes sociales a mediados del 2018."
   ]
  },
  {
   "cell_type": "markdown",
   "metadata": {},
   "source": [
    ">### 1.3. Objetivos\n",
    "\n",
    "La propuesta para este trabajo es realizar un proceso básico de _Text Mining_ de Twitter. Para ello, se plantean los siguienes objetivos:\n",
    "\n",
    "  **i. Recolección y preprocesamiento de datos.** \n",
    "   \n",
    "  **ii. Análisis de frecuencia de términos.** \n",
    "   \n",
    "  **iii. Descubrimiento de tópicos en un textos.**\n",
    "   \n",
    "  **iv. Análisis de sentimientos.**\n",
    "   \n",
    "  **v. Representación visual según geolocalización.**\n",
    "   "
   ]
  },
  {
   "cell_type": "markdown",
   "metadata": {},
   "source": [
    ">### 1.4. Estructura del documento\n",
    "\n",
    "Este documento está dividido en 5 capítulos: \n",
    "\n",
    "\n",
    "CAPÍTULO 1: **Introducción**\n",
    "\n",
    "Motivación y objetivos del proyecto.\n",
    "\n",
    "CAPÍTULO 2: **Conceptos previos**\n",
    "\n",
    "Explicación de algunos conceptos claves usados en todo el documento.\n",
    "\n",
    "CAPÍTULO 3: **Metodología**\n",
    "\n",
    "Descripción de las fases del proyecto y presentación de las dstintas herramientas usadas.\n",
    "\n",
    "CAPÍTULO 4: **Desarrollo**\n",
    "\n",
    "Detalle del proceso de extracción de información de Twitter, procesamiento de tweets y presentación de los análisis de text mining realizados.\n",
    "\n",
    "CAPÍTULO 5: **Conclusión** \n",
    "\n",
    "Repaso del trabajo realizado y los resultados obtenidos."
   ]
  },
  {
   "cell_type": "markdown",
   "metadata": {},
   "source": [
    "## 2. Conceptos previos"
   ]
  },
  {
   "cell_type": "markdown",
   "metadata": {},
   "source": [
    "La Minería de Texto (o _Text Mining_) la englobamos dentro de las técnicas y modelos de Minería de Datos (o _Data Mining_). \n",
    "\n",
    "La minería de datos la podemos definir como el análisis matemático para deducir patrones y tendencias que existen en los datos; patrones que no pueden detectarse mediante una exploración tradicional de los datos porque las relaciones son demasiado complejas o por el volumen de datos que se maneja. La minería de datos se refiere al conjunto de métodos estadísticos que proporcionan información (correlaciones o patrones) cuando se dispone de muchos datos.\n",
    "\n",
    "Ahora bien, la minería de texto se centra en la búsqueda de conocimiento en grandes colecciones de documentos. A simple vista, el proceso de Text Mining no se diferencia de la definición previa que hemos establecido para el Data Mining, pero en la minería de texto obtenemos información nueva a partir de grandes cantidades de texto, en donde la información suele estar no estructurada. "
   ]
  },
  {
   "cell_type": "markdown",
   "metadata": {},
   "source": [
    ">### 2.1. Text Mining\n",
    "\n",
    "Al ser el Text Mining una variante del Data Mining, adoptará técnicas de aprendizaje automático para el reconocimiento de patrones y la comprensión de la nueva información. En este sentido la minería de textos tendrá aplicación en diferentes campos, de hecho haciendo un poco de revisión bibliográfica, o simplemente “googleando” puede encontrarse una multitud de trabajos en el ámbito de la medicina, la biología, la gestión documental o el análisis de opiniones.\n",
    "\n",
    "Algunos ejemplos de aplicación del text mining incluyen:\n",
    "\n",
    "**Document classification**: es la tarea de asignar un documento a una o más categorías.\n",
    "\n",
    "**Document clustering**: es la tarea de agrupar documentos en subconjuntos (llamados clusters) que son coherentes y distintos entre sí (por ejemplo, por tema o subtema).\n",
    "\n",
    "**Document summarization**: es la tarea de crear una versión abreviada del documento para reducir la sobrecarga de información para el usuario, al mismo tiempo que conserva los aspectos más importantes descritos en la fuente original.\n",
    "\n",
    "**Entity extraction**: es la tarea de ubicar y clasificar las referencias de entidades de un texto en algunas categorías deseadas, como personas, ubicaciones u organizaciones.\n",
    "\n",
    "**Sentiment analysis**: es la tarea de identificar y clasificar los sentimientos y opiniones expresadas en un texto para comprender la actitud hacia un producto, tema, servicio, etc. en particular.\n",
    "\n",
    "Twitter, así como muchas otras redes sociales, se ha convertido en una enorme fuente de información para el desarrollo y la investigación de Text Mining.\n"
   ]
  },
  {
   "cell_type": "markdown",
   "metadata": {},
   "source": [
    ">### 2.3. Sentiment Analysis\n",
    "\n",
    "El Analisis de Sentimientos es el uso de técnicas como las del procesamiento de lenguaje natural para extraer a partir de algún recurso información acerca de la actitud de su autor. De esta actitud, se pueden detectar opiniones o estados de ánimo. Desde el punto de vista de la minería de textos, el análisis de sentimientos es una tarea de clasificación masiva de documentos de manera automática, en función de la connotación positiva o negativa del lenguaje ocupado en el documento. Es importante mencionar que estos tratamientos generalmente se basan en relaciones estadísticas y de asociación, pero no en análisis lingüístico.\n",
    "\n",
    "Por ejemplo, aquellos sistemas que detectan opiniones, a menudo las clasifican como positivas, neutrales o negativas. A esta clasificacion, en una unica dimension, se le llama de polaridad y es la que ha sido empleada en este proyecto.\n",
    "\n",
    "Es un gran reto dentro de las tecnologías del lenguaje el clasificar automáticamente un texto escrito, en un lenguaje natural, en un sentimiento positivo o negativo. Incluso es difícil ponerse de acuerdo entre diferentes anotadores humanos sobre la clasificación a asignar a un texto dado. La interpretación de cada uno puede ser diferente, además de verse afectado por diversos factores culturales y experiencias personales. La tarea resulta aún más difícil cuanto más corto y peor escrito esté el mensaje, como suele ser habitual en el caso de los mensajes en redes sociales.\n",
    "\n",
    "Dada la creciente popularidad de las redes sociales, metodos de este tipo se están empleando cada vez más sobre estas redes como modo alternativo de sondeo a la poblacion. Sobre todo Twitter es una gran fuente de recursos para estas investigaciones, ya que dispone de una gran cantidad de usuarios que publican opiniones de manera pública a las que se puede acceder muy fácil."
   ]
  },
  {
   "cell_type": "markdown",
   "metadata": {},
   "source": [
    ">### 2.3. Twitter\n",
    "\n",
    "En este trabajo nos centraremos en el desarrollo de una aplicación para visualizar datos extraídos exclusivamente de  red social Twitter. \n",
    "\n",
    "Twitter es una aplicación Web de microblogging (que es una variante de los blogs donde las piezas de contenidos son muy cortas) muy popularizada y extendida por todo el mundo en los últimos años. Twitter es una red social que permite que sus usuarios publiquen tweets: pequeños mensajes de texto de hasta 140 caracteres que pueden ser leídos por cualquiera de los otros usuarios de la aplicación. \n",
    "\n",
    "En Twitter, cada usuario tiene una lista de seguidores (en inglés, _followers_), que son notificados de los tweets publicados por dicho usuario. A su vez, cada usuario tiene una lista  de  usuarios  a  los  que  sigue.  Al  igual  que  otras  redes  sociales,  Twitter  permite realizar menciones escribiendo el nombre del usuario precedido del carácter ‘@’. Diferentes de otras plataformas de redes sociales, como Facebook, la red de Twitter no es bidireccional, lo que significa que las conexiones no tienen que ser mutuas: puedes seguir a los usuarios que no te siguen, y al revés.\n",
    "\n",
    "Una de las características más interesantes de esta red social es la posibilidad de clasificar los tweets mediante el uso de etiquetas. Estas etiquetas o hashtags, van precedidas del símbolo ‘#’. Lo que permite fácilmente encontrar tweets de un tema concreto mediante el uso de estos hashtags. Por ejemplo, #halloween (usado para mostrar imágenes de disfraces de Halloween) o #WaterOnMars (que fue una tendencia después de que la NASA anunció que encontraron evidencia de agua en Marte).\n",
    "\n",
    "Los tweets permiten dos tipos de interacciones. Por un lado, el retweet, que permite al usuario reenviar el tweet a todos sus seguidores, y de esta forma se consigue propagar el mensaje por toda la red. Por otro lado, el botón “me gusta” permite valorar positivamente un mensaje. Por lo tanto, un tweet contiene dos variables numéricas que \n",
    "permiten  medir  su  interacción,  el  número  de  retweets,  que  son  las  veces  que  un determinado tweet ha sido retuiteado, y el número de “me gusta”. \n",
    "\n",
    "Las celebridades tienen una cuenta de Twitter para mantenerse en contacto con sus fans. Los usuarios discuten sucesos\n",
    "de eventos en tiempo real, incluidas celebraciones, programas de televisión, eventos deportivos, elecciones políticas, etc. Dada la variedad de usos, Twitter es una potencial mina de oro para los data miners.\n",
    "\n",
    "Al final del documento, puede consultarse un glosario de términos y acrónimos. "
   ]
  },
  {
   "cell_type": "markdown",
   "metadata": {},
   "source": [
    ">## 3. Metodología"
   ]
  },
  {
   "cell_type": "markdown",
   "metadata": {},
   "source": [
    "En general, el trabajo consiste en usar la librería Tweepy de Python para conectase a Twitter y de allí capturar los tweets para realizar distintos análisis de text mining.\n",
    "\n",
    "Como en todo proyecto de data mining, el proceso global puede resumirse en los siguientes pasos: _Data collection_, _Data cleaning and pre-processing_, _Modeling and analysis_, _Result presentation_. A continuación de proporciona mayor detalle al respecto."
   ]
  },
  {
   "cell_type": "markdown",
   "metadata": {},
   "source": [
    ">### 3.1. Etapas del proyecto"
   ]
  },
  {
   "cell_type": "markdown",
   "metadata": {},
   "source": [
    "\n",
    "La etapa de _Data collection_ consiste en seleccionar los textos pertinentes a la temática de interés (i.e., #aborto) para extraer la información incluida en esos textos mediante el procesamiento del lenguaje natural: hechos, acontecimientos, datos clave, relaciones entre ellos, etc. Como sabemos, el primer paso dentro de la minería de texto es definir el conjunto (corpus) de documentos o textos. \n",
    "\n",
    "Una vez que hemos seleccionado los textos a analizar, el siguiente paso es convertirlos a un formato analizable, para poder crear una representación estructurada o semi-estructurada de los mismos que facilite su posterior análisis. Esto se realiza durante la etapa de pre-procesamiento.\n",
    "\n",
    "Con el corpus seleccionado y estructurado, debemos reconocer los _tokens_ (unidades gramaticales más pequeñas), lo que implica representar el texto como una lista de palabras mediante una representación vectorial.\n",
    "\n",
    "En la etapa de análisis o descubrimiento, las representaciones internas se analizan con el objetivo de descubrir en ellas algunos patrones interesantes o nueva información. En este punto, se desarrollan los análisis planteados como objetivos del proyecto.\n",
    "\n",
    "Por último, los resultatos se presentan gráficamente para su visualización y comprensión."
   ]
  },
  {
   "cell_type": "markdown",
   "metadata": {},
   "source": [
    ">### 3.2. Herramientas usadas"
   ]
  },
  {
   "cell_type": "markdown",
   "metadata": {},
   "source": [
    ">#### 3.2.1. Twitter REST API\n",
    "\n",
    "Twitter da soporte a dos APIs distintas: la REST API y la Streaming API. La primera funciona esencialmente mediante consultas a sus servidores para una petición concreta en la cual se recibe una respuesta (JSON, XML, etc); se trata de la arquitectura típica cliente-servidor, REST (Transferencia de Estado Representacional), que intercambia los datos directamente mediante HTTP. La Streaming API envía tweets basados en términos de búsqueda o en usuarios determinados que se soliciten, proporcionando información en tiempo real. \n",
    "\n",
    "En este trabajo, únicamente nos interesa la REST API: trabajaremos siempre sobre la misma colección de tweets, sobre la que haremos distintas pruebas, por lo que obtener tweets en tiempo real no nos será de mucha utilidad para el objetivo de este proyecto. Más adelante se explicará cómo obtener acceso a la REST API de Twitter, profundizaremos en su funcionamiento y mencionaremos brevemente las operaciones que nos serán utiles durante el proyecto."
   ]
  },
  {
   "cell_type": "markdown",
   "metadata": {},
   "source": [
    ">#### 3.2.2. Python\n",
    "\n",
    "En sintonía con el curso de Data Science, se emplea Python como lenguaje de programacion durante todo el proyecto.\n",
    "Python es un lenguaje sencillo y flexible, lo que facilita una rápida y clara implementación de los algoritmos, así como la fácil creación de pequeñas funciones de tipo scripting, que serán necesarias durante el proyecto.\n",
    "Además, Python ofrece paquetes sólidos y bien establecidos para aprendizaje automático (ML), procesamiento de lenguajes naturales (NLP) y análisis de sentimientos (SNA), entre otras.\n",
    "\n",
    "A continuación se decribe brevemente las librerías  más importantes de Python que fueron usadas:  \n",
    "\n",
    "\n",
    "**Numpy & Pandas**. La manipulación de datos se realiza usando la librería de análisis de datos _Pandas_ (basada en _Numpy_). \n",
    "\n",
    "**Matplotlib & Seaborn**. La exploración visual y representación gráfica de datos se realiza usando la librería de visualización estadística _Seaborn_ (basada en _Matplotlib_).\n",
    "\n",
    "**Scikit-learn**. Para la implementación de los algoritmos de aprendizaje automático, se utiliza la librería _Scikit-learn_, que es la principal librería que existe para trabajar con Machine Learning. Posee una API que es consistente en todos los modelos y se integra muy bien con el resto de los paquetes científicos que ofrece _Python_. Esta librería también nos facilita las tareas de evaluación, diagnostico y validaciones cruzadas ya que nos proporciona varios métodos \"de fábrica\" (propios) para poder realizar estas tareas en forma muy simple o automática.\n",
    "\n",
    "**Tweepy**. Para comunicarse con la plataforma de Twitter y usar su API desde _Python_, se utiliza la librería _Tweepy_. Esta librería funciona como un sencillo wraper de la API de Twitter, e incluye una clase API con funciones que acceden a todos los métodos de la Twitter REST API, de manera que no debemos preocuparnos de los aspectos de menor nivel. \n",
    "\n",
    "**TextBlob**. Para procesar datos de texto se usa la librería _TextBlob_ de _Python_, que proporciona una API consistente para sumergirse en tareas comunes de procesamiento de lenguaje natural (NLP) tales como etiquetado de parte del habla, extracción de frases sustantivas, análisis de sentimientos, etc.\n",
    "\n",
    "**NLKT**. Natural language toolkit (NLTK) es la librería más popular para el procesamiento del lenguaje natural (NLP) de Python\n",
    "\n",
    "**Jsonpickle**. Librería de Python para serialización y deserialización de objetos complejos de Python desde y hacia JSON. Las bibliotecas estándar de Python para codificar Python en JSON, como stdlib's json, simplejson y demjson, solo pueden manejar primitivas de Python que tengan un equivalente JSON directo (por ejemplo, dicts, listas, cadenas, ints, etc.). jsonpickle se basa en estas bibliotecas y permite serializar estructuras de datos más complejas a JSON.\n",
    "\n",
    "**Re**. Librearía popular de Python para el manejo de expresiones regulares.\n",
    "\n",
    "**Gensim**.Librería diseñada para extraer automáticamente los tópicos semánticos de los documentos, de la manera más eficiente (computacional) y sin esfuerzo (humano) que sea posible. Gensim está diseñado para procesar textos digitales sin estructurar (\"texto sin formato\"). "
   ]
  },
  {
   "cell_type": "markdown",
   "metadata": {},
   "source": [
    "## 4. Desarrollo"
   ]
  },
  {
   "cell_type": "markdown",
   "metadata": {},
   "source": [
    ">### 4.1. RECOPILACIÓN DE DATOS\n",
    "\n",
    "En este capítulo se describirá el proceso de recopilación de tweets e información de las distintas cuentas. Como ya ha sido mencionado, se recogerán tweets pertenecientes al debate sobre la despenalización del aborto en Argentina. Estos tweets han sido recogidos entre durante diciembre de 2018. Como se expresó al inicio, se ha elegido la temática del aborto porque ha generado mucha discusión en Twitter y se esperan usuarios con distintas opioniones lo que permitirá realizar también análisis de polaridad. "
   ]
  },
  {
   "cell_type": "markdown",
   "metadata": {},
   "source": [
    ">#### 4.1.1. Registro de aplicación - Proceso de autorización"
   ]
  },
  {
   "cell_type": "markdown",
   "metadata": {},
   "source": [
    "Twitter ofrece una serie de APIs para proporcionar acceso programático a los datos de Twitter, como leer tweets, acceder a perfiles de usuarios y publicar contenido en nombre de un usuario, entre otras acciones. Para configurar nuestro proyecto para acceder a los datos de Twitter mediante sus APIs, deben realizarse dos pasos preliminares:\n",
    "\n",
    "-\tRegistrar nuestra aplicación.\n",
    "\n",
    "\n",
    "-\tElegir un cliente API de Twitter.\n",
    "\n",
    "Suponiendo que ya hemos iniciado sesión en nuestra cuenta de Twitter, la aplicación se crea en http://apps.twitter. \n",
    "\n",
    "Una vez que la aplicación está registrada, es necesario autenticarla con los servidores de Twitter utilizando el protocolo de autenticación Open Authorization (OAuth). Para ello, el primer paso es conseguir las claves de autenticación a través del registro de la aplicación en el servicio para desarrolladores que proporciona Twitter. Allí, se obtiene una clave de autenticación Oauth (CONSUMER KEY) y su clave secreta asociada (CONSUMER SECRET). Estas claves son las que usará la aplicación para conectarse con la API. Sin embargo, la aplicación no está asociada todavía a ninguna cuenta y es incapaz de realizar peticiones a la API, para ello es necesario un token de acceso (ACCESS TOKEN) con su respectivo secreto (ACCESS TOKEN SECRET).\n",
    "\n",
    "Al final de este proceso se obtendrán la CONSUMER KEY y el CONSUMER SECRET que permiten la autenticación de la aplicación, así como el ACCESS TOKEN y el ACCESS TOKEN SECRET, que permiten la autenticación del desarrollador. \n",
    " \n",
    "Estos tokens de autenticación se mantienen en privado. Para ello, las buenas prácticas sugieren crear un archivo de configuración separado y mantener estos tokens; en nuestro caso **credentials.py**."
   ]
  },
  {
   "cell_type": "code",
   "execution_count": 2,
   "metadata": {},
   "outputs": [],
   "source": [
    "from credentials import *  #importamos Twitter App access key for @user"
   ]
  },
  {
   "cell_type": "markdown",
   "metadata": {},
   "source": [
    ">#### 4.1.2. Acceso a los datos "
   ]
  },
  {
   "cell_type": "markdown",
   "metadata": {},
   "source": [
    " Una vez conseguidas las claves, podemos establecer la conexión con la API fácilmente usando las funciones que proporciona la librería Tweepy."
   ]
  },
  {
   "cell_type": "code",
   "execution_count": 3,
   "metadata": {},
   "outputs": [],
   "source": [
    "import tweepy       #importamos Tweepy library\n",
    "\n",
    "try:\n",
    "    #Autenticación y acceso usando claves:\n",
    "        #pasa las keys para autenticar\n",
    "    auth=tweepy.OAuthHandler(CONSUMER_KEY,CONSUMER_SECRET)\n",
    "        #pasa el acceso secreto para validar\n",
    "    auth.set_access_token(ACCESS_TOKEN, ACCESS_SECRET)\n",
    "    \n",
    "    #Retornar API con autorización: \n",
    "    api=tweepy.API(auth, wait_on_rate_limit=True, wait_on_rate_limit_notify=True, compression=True)\n",
    "        # wait_on_rate_limit= True: hará que la api espere automáticamente a hasta que se repongan los límites de peticiones.\n",
    "        # wait_on_rate_limit_notify= Ture: hará que la API imprima una notificación cuando Tweepy esté esperando a que se repongan los límites de peticiones\n",
    "except:\n",
    "    print (\"Error:Problemas de conexión/autenticación con la API\")"
   ]
  },
  {
   "cell_type": "code",
   "execution_count": 4,
   "metadata": {},
   "outputs": [
    {
     "data": {
      "text/plain": [
       "{'/search/tweets': {'limit': 180, 'remaining': 180, 'reset': 1544965066}}"
      ]
     },
     "execution_count": 4,
     "metadata": {},
     "output_type": "execute_result"
    }
   ],
   "source": [
    "#chequeo de cuantos query quedan para poder seguir operando\n",
    "api.rate_limit_status()['resources']['search']"
   ]
  },
  {
   "cell_type": "markdown",
   "metadata": {},
   "source": [
    "Una vez se tiene el token de acceso, la variable _**api**_ es ahora nuestro punto de entrada para la mayoria de operaciones que pueden relizarse por Twitter, es decir, para realizar peticiones HTTP a los distintos _endpoints_ ofrecidos por la REST API.\n",
    "\n",
    "Los _endpoints_ de la REST API de Twitter son enlaces a los que se pueden mandar peticiones para que realicen alguna operación, que puede ser de dos tipos: solicitud de datos, como obtener una lista de seguidores de una cuenta, o subida de datos, como subir una foto a Twitter. A los _endpoints_ del primer tipo se les enviarían peticiones HTTP de tipo GET, sus parámetros se enviarán incluidos dentro de la propia URL y las respuestas serán devueltas en formato JSON; mientras que a los del segundo, se les puede enviar peticiones de tipo POST, que podrán contener información en el cuerpo del mensaje, pero no son de interés para este proyecto. Por cada operación, hay un _endpoint_ distinto y en total existen 96 distintos (sin contar aquellos usados para procedimientos como la autenticación y los pertenecientes a otras APIs).\n",
    "\n",
    "\n",
    "Algunos de los _endpoints_ más importantes se mencionan a continuación, pero para este proyecto será necesario sólo el primero:\n",
    "\n",
    "   **search/tweets** \n",
    "       \n",
    "    Se le pasa como argumento una cadena de caracteres \"q\" y devolverá hasta 100 tweets que contengan \"q\". Se pueden elegir otras opciones, como el idioma de los tweets, su fecha de publicación máxima, etc. Los tuits devueltos tendrán una antigüedad máxima de una semana. También merece la pena mencionar que la búsqueda no es exhaustiva y no todos los tweets serán devueltos. Sobre todo tweets publicados por cuentas recientes que apenas tengan seguidores a menudo no estarán correctamente indexados y no serán devueltos por la API. Tiene un límite de 180 peticiones por intervalo.\n",
    "\n",
    "   **users/show** \n",
    "    \n",
    "    Al pasarle como argumento el nombre o identiﬁcador de una cuenta de Twitter, devuelve información sobre esa cuenta, como número de seguidores, descripción, último tweet, etc. Tiene un límite de 180 peticiones por intervalo. \n",
    "\n",
    "   **friends/list**\n",
    "\n",
    "    Al pasarle como argumento el nombre o identiﬁcador de una cuenta de Twitter, devuelve una lista de hasta 200 amigos de esa cuenta. Tiene un límite de 15 peticiones por intervalo.\n",
    "\n",
    "   **statuses/user timeline**\n",
    "\n",
    "    Al pasarle como argumento el nombre o identiﬁcador de una cuenta de Twitter, devuelve una lista de hasta 200 tuits publicados por esa cuenta. De esta manera se pueden obtener únicamente hasta los 3200 tuits más recientes de cada cuenta. Tiene un límite de 180 peticiones por intervalo.\n",
    "\n",
    "Existen limitaciones en el número de veces que se puede usar cada _endpoint_ con un mismo token de acceso. Esta limitación se mide en intervalos de 15 minutos. Por lo tanto, si un _endpoint_ tiene un límite de 15 peticiones por intervalo, signiﬁca que únicamente se podrán realizar hasta 15 peticiones a ese _endpoint_ por cada 15 minutos con el mismo token de acceso. Una vez superado ese límite, no se podrán realizar más peticiones al _endpoint_ hasta que hayan pasado los 15 minutos del intervalo de tiempo.\n",
    "\n",
    "Las implicaciones de alcanzar los límites de la API es que Twitter devolverá un mensaje de error en lugar de los datos que solicitamos. Además, si continuamos realizando más solicitudes a la API, el tiempo requerido para obtener acceso regular nuevamente aumentará, ya que Twitter podría señalarnos como posibles abusadores."
   ]
  },
  {
   "cell_type": "markdown",
   "metadata": {},
   "source": [
    ">#### 4.1.3. Estructura de un tweet "
   ]
  },
  {
   "cell_type": "markdown",
   "metadata": {},
   "source": [
    "Twitter representa los tweets en formato JSON. Un objeto JSON está constituido por una colección de pares de nombre/valor. \n",
    "\n",
    "Desde el punto de vista de Python, un tweet se comporta como un diccionario con aproximadamente 30 entradas o campos (algunas tienen valores simples como un valor numérico o un _string_ y otras tienen valores que son a su vez otros diccionarios o listas), relacionadas a usuarios, contenido del tweet, fecha de creación del tweet, etc. En este proyecto se usarán sólo algunos de estos atributos para realizar los análisis propuestos."
   ]
  },
  {
   "cell_type": "markdown",
   "metadata": {},
   "source": [
    "A continuación se listan los principales atributos o campos y una breve descripción de su significado. En particular, el contenido de la respuesta de la API para el tweet en particular está totalmente contenido en el atributo _ _json_, que se carga en un diccionario de Python:\n",
    "\n",
    "    \n",
    "     - _json:                       Diccionario con la respuesta JSON de los tweets.\n",
    "     - user, author:                Perfil completo del autor del tweet.\n",
    "     - text:                        Contenido del tweet (tipo string).\n",
    "     - geo, coordinates:            Diccionario de coordenadas en formato GeoJSON (si está disponible).\n",
    "     - created_at:                  Instancia de datetime.datetime del momento de creación del tweet. \n",
    "     - entities:                    Diccionario de URL, hashtags, menciones y tweets.\n",
    "     - favorite_count:              Cantidad de veces que el tweet ha obtenido \"me gusta\" (favorito).\n",
    "     - favorited:                   Indica si el usuario autenticado ha dado \"me gusta\" al tweet.\n",
    "     - id:                          ID único de los tweets (tipo big integer).\n",
    "     - lang:                        Código de idioma del tweet (tipo string).\n",
    "     - place:                       Instancia de tweepy.models.Place instance del lugar adjunto al tweet.\n",
    "     - retweet_count:               Cantidad de veces que el tweet ha sido retweeteado.\n",
    "     - retweeted:                   Indica si el tweet ha sido ha sido retweeteado."
   ]
  },
  {
   "cell_type": "markdown",
   "metadata": {},
   "source": [
    "El siguiente ejemplo muestra un tweet obtenido con el hashtag **\"#aborto\"** en el formato JSON original tal como lo proporciona la API y es accesible a través del atributo _ _json_ (se han omitido varios campos para abreviar).\n",
    "\n",
    "En primer lugar, la fecha de creación en el formato esperado, es la siguiente:\n",
    "\n",
    "    {\n",
    "    'created_at': 'Wed Dec 12 00:22:13 +0000 2018',\n",
    "    \n",
    "El atributo _entities_ es un diccionario que contiene diferentes listas etiquetadas como _entities_. Por ejemplo, el elemento hashtags muestra que #aborto es un hastag que estaba presente en el tweet. Similarmente, se tienen fotos, URLs, y menciones a usuarios:        \n",
    "    \n",
    "    'entities': {\n",
    "        'hashtags': [\n",
    "            {\n",
    "                'text': 'Aborto', \n",
    "                'indices': [22, 29]\n",
    "             }\n",
    "                 ], \n",
    "        'symbols': [], \n",
    "        'user_mentions': [\n",
    "            {\n",
    "                'screen_name': 'terminaaimivi', \n",
    "                'name': 'DisfruTaitor', \n",
    "                'id': 1339876586, \n",
    "                'id_str': '1339876586', \n",
    "                'indices': [3, 17]\n",
    "             }\n",
    "                     ], \n",
    "        'urls': []\n",
    "                }\n",
    "\n",
    "Los siguientes atributos están bien descritos en la lista anterior. Podemos notar que falta la información geográfica para este tweet. También podemos comparar la información anterior sobre las entidades con el tweet real almacenado en el atributo de _texto_:\n",
    "\n",
    "    'geo': None, \n",
    "    'coordinates': None, '\n",
    "    'place': None, \n",
    "    'contributors': None, \n",
    "    'is_quote_status': False,\n",
    "    'retweet_count': 141, \n",
    "    'favorite_count': 132, \n",
    "    'favorited': False, \n",
    "    'retweeted': False, \n",
    "    'possibly_sensitive': False, \n",
    "    'lang': 'es'\n",
    "    'text': 'RT @terminaaimivi: El #Aborto, además de ser un sufrimiento personal, ya que ninguna mujer aborta por \"placer\", es  un fracaso social. Nunca…'\n",
    "    \n",
    "El atributo de _user_ es un diccionario que representa al usuario que envió el tweet, en este caso, 'Sol de medianoche'. Como se mencionó anteriormente, éste es un objeto complejo con toda la información relacionada con el usuario incorporada en el tweet:\n",
    "  \n",
    "    author=User(_api=<tweepy.api.API object at 0x000001FEE6DABDA0>, \n",
    "    _json={\n",
    "\n",
    "    'id': 961857933892927488, \n",
    "    'id_str': '961857933892927488', \n",
    "    'name': 'Sol de medianoche', \n",
    "    'screen_name': 'Sol10718167', \n",
    "    'location': 'Cantabria, España', \n",
    "    'description': 'Santanderina de nacimiento,\\nESPAÑOLA de sentimiento\\nDe VOX por convencimiento de ultra-necesidad\\ny todo lo demás... es un cuento💪🇪🇸', \n",
    "    'url': None, \n",
    "    'entities':  {\n",
    "        'description': {\n",
    "            'urls': []\n",
    "                        }\n",
    "                 }, \n",
    "    'protected': False, \n",
    "    'followers_count': 314, \n",
    "    'friends_count': 242, \n",
    "    'listed_count': 2, \n",
    "    'created_at': 'Fri Feb 09 07:02:56 +0000 2018', \n",
    "    'favourites_count': 11721, \n",
    "    'utc_offset': None, \n",
    "    'time_zone': None, \n",
    "    'geo_enabled': False, \n",
    "    'verified': False, \n",
    "    'statuses_count': 11055, \n",
    "    'lang': 'es', \n",
    "    'contributors_enabled': False, \n",
    "    'is_translator': False, \n",
    "    'is_translation_enabled': False, \n",
    "    'profile_background_color': 'F5F8FA', \n",
    "    'profile_background_image_url': None, \n",
    "    'profile_background_image_url_https': None, \n",
    "    'profile_background_tile': False, \n",
    "    'profile_image_url': 'http://pbs.twimg.com/profile_images/1043970826851295232/uawfuLK7_normal.jpg',\n",
    "    'profile_image_url_https': 'https://pbs.twimg.com/profile_images/1043970826851295232/uawfuLK7_normal.jpg', \n",
    "    'profile_banner_url': 'https://pbs.twimg.com/profile_banners/961857933892927488/1536455051', \n",
    "    'profile_link_color': '1DA1F2', \n",
    "    'profile_sidebar_border_color': 'C0DEED', \n",
    "    'profile_sidebar_fill_color': 'DDEEF6', \n",
    "    'profile_text_color': '333333', \n",
    "    'profile_use_background_image': True, \n",
    "    'has_extended_profile': True, \n",
    "    'default_profile': True, \n",
    "    'default_profile_image': False, \n",
    "    'following': False, \n",
    "    'follow_request_sent': False, \n",
    "    'notifications': False, \n",
    "    'translator_type': 'none'}\n",
    "\n",
    "Este ejemplo muestra dos aspectos interesantes a considerar cuando se analizan tweets, como sigue:\n",
    "\n",
    "- Las _entities_ ya están etiquetadas. \n",
    "\n",
    "- El perfil del usuario está totalmente integrado. \n",
    "\n",
    "El primer punto significa que el análisis de la entidad se simplifica, ya que no necesitamos buscar explícitamente aentidades como hashtags, menciones de usuarios, URL incrustadas o medios, porque éstas ya están proporcionadas por la API de Twitter, junto con el mismo texto.\n",
    "El segundo punto significa que no necesitamos almacenar la información de perfil de usuario en otro lugar y luego unir/fusionar los datos a través de una clave externa, por ejemplo. El perfil de usuario es, de hecho, replicado de forma redundante dentro de cada tweet."
   ]
  },
  {
   "cell_type": "markdown",
   "metadata": {},
   "source": [
    "Ahora bien, para ahorrar el máximo espacio posible habrá que quedarse sólo con la mínima información necesaria. Por lo tanto, para cada tweet seleccionaremos sólo los atributos que nos interesen. "
   ]
  },
  {
   "cell_type": "markdown",
   "metadata": {},
   "source": [
    ">#### 4.1.4. Almacenamiento de datos "
   ]
  },
  {
   "cell_type": "markdown",
   "metadata": {},
   "source": [
    "##### Búsqueda de tweets"
   ]
  },
  {
   "cell_type": "markdown",
   "metadata": {},
   "source": [
    "Para tweets relacionados a la temática del aborto, se ha utilizado el _endpoint_ \"search/tweets\", usando como términos de búsqueda la lista de hashtag que figura a continuación en la variable _words_:"
   ]
  },
  {
   "cell_type": "code",
   "execution_count": 5,
   "metadata": {},
   "outputs": [],
   "source": [
    "words=[\n",
    "# sin orientación explícita \n",
    "'#aborto',\n",
    "'#AbortoSesiónHistórica',\n",
    "\n",
    "#a favor (a priori)\n",
    "'#AbortoLegal',\n",
    "'#AbortoLegalYa',\n",
    "'#UnGritoGlobal',\n",
    "'#AbortoSeraLey',\n",
    "'#quesealey',\n",
    " \n",
    "#en contra (a priori)\n",
    "'#NoAlAborto',\n",
    "'#SalvemosLasDosVidas',\n",
    "'#QueNoTeEngañen',\n",
    "'#AbortoEsTorturaYMuerte',\n",
    "'#AbortoNoEsDerecho'\n",
    "]"
   ]
  },
  {
   "cell_type": "code",
   "execution_count": 9,
   "metadata": {},
   "outputs": [],
   "source": [
    "#Término de busqueda \n",
    "searchQuery = words[0] #A modo de ejemplo comenzamos con search: '#aborto'\n",
    "searchQuerySave=searchQuery.replace('#','') #nombre donde se guardará el archivo con formato .json. (sin '#')\n",
    "#Cantidad de tweet a buscar\n",
    "maxTweets = 3000\n",
    "#Permitido de la api para busqueda\n",
    "tweetsPerQry = 100"
   ]
  },
  {
   "cell_type": "markdown",
   "metadata": {},
   "source": [
    "De esta forma si ejecutamos la búsqueda podemos recibir muchos de los tweets que contengan alguna de esas palabras en su texto. Finalmente, solo quedaría guardar los tweets en un archivo (_.json_ en nuestro caso)."
   ]
  },
  {
   "cell_type": "markdown",
   "metadata": {},
   "source": [
    "##### Recopilación de tweets"
   ]
  },
  {
   "cell_type": "code",
   "execution_count": 11,
   "metadata": {},
   "outputs": [
    {
     "name": "stderr",
     "output_type": "stream",
     "text": [
      "Rate limit reached. Sleeping for: 789\n"
     ]
    },
    {
     "name": "stdout",
     "output_type": "stream",
     "text": [
      "Downloaded 3000 tweets\n"
     ]
    }
   ],
   "source": [
    "tweetCount = 0 #contador de tweets\n",
    "\n",
    "#!pip install jsonpickle\n",
    "import jsonpickle #importamos librería para trabajar objetos complejos de formato JSON\n",
    "\n",
    "#Guardado de tweets en archivo .json\n",
    "with open( str(searchQuerySave)+'.json', 'w') as f:\n",
    "    f.write('[')\n",
    "    for tweet in tweepy.Cursor(api.search,q=searchQuery).items(maxTweets) :         \n",
    "        #Escritura del json\n",
    "        f.write(jsonpickle.encode(tweet._json, unpicklable=False) + '\\n' )\n",
    "        tweetCount += 1\n",
    "        if tweetCount < maxTweets:\n",
    "            f.write(',') \n",
    "        ;\n",
    "    f.write(']')   \n",
    "#Cantidad de tweets recolectados\n",
    "print(\"Downloaded {0} tweets\".format(tweetCount))"
   ]
  },
  {
   "cell_type": "markdown",
   "metadata": {},
   "source": [
    "Se han recuperado como máximo _maxTweets = **3.000**_ tweets. Estos tweets se obtienen en formato JSON y son almacenados en distintas archivos según el tipo de análisis a realizar."
   ]
  },
  {
   "cell_type": "code",
   "execution_count": 17,
   "metadata": {},
   "outputs": [
    {
     "name": "stdout",
     "output_type": "stream",
     "text": [
      "Cantidad de 3000 tweets\n"
     ]
    }
   ],
   "source": [
    "import json\n",
    "\n",
    "#nombre del archivo .json\n",
    "file_name = str(searchQuerySave)+'.json'\n",
    "#Lectura del archivo \n",
    "tweets_file = open(file_name, \"r\",encoding=\"utf8\")\n",
    "#se almacena en la variable tweets_data los datos del archivo .json tranformados \n",
    "#a un diccionario para su manipulación en Python\n",
    "tweets_data = json.load(tweets_file)\n",
    "\n",
    "#Cantidad de tweets recolectados\n",
    "print(\"Cantidad de {0} tweets\".format(len(tweets_data)))"
   ]
  },
  {
   "cell_type": "markdown",
   "metadata": {},
   "source": [
    "A modo de ejemplo, se imprime el diccionario obtenido como un JSON con _pretty printing_."
   ]
  },
  {
   "cell_type": "code",
   "execution_count": 18,
   "metadata": {
    "scrolled": false
   },
   "outputs": [
    {
     "name": "stdout",
     "output_type": "stream",
     "text": [
      "{\n",
      "    \"contributors\": null,\n",
      "    \"coordinates\": null,\n",
      "    \"created_at\": \"Sun Dec 16 13:01:13 +0000 2018\",\n",
      "    \"entities\": {\n",
      "        \"hashtags\": [],\n",
      "        \"symbols\": [],\n",
      "        \"urls\": [],\n",
      "        \"user_mentions\": [\n",
      "            {\n",
      "                \"id\": 116928096,\n",
      "                \"id_str\": \"116928096\",\n",
      "                \"indices\": [\n",
      "                    3,\n",
      "                    12\n",
      "                ],\n",
      "                \"name\": \"Alberto\",\n",
      "                \"screen_name\": \"almagoch\"\n",
      "            }\n",
      "        ]\n",
      "    },\n",
      "    \"favorite_count\": 0,\n",
      "    \"favorited\": false,\n",
      "    \"geo\": null,\n",
      "    \"id\": 1074288335911297026,\n",
      "    \"id_str\": \"1074288335911297026\",\n",
      "    \"in_reply_to_screen_name\": null,\n",
      "    \"in_reply_to_status_id\": null,\n",
      "    \"in_reply_to_status_id_str\": null,\n",
      "    \"in_reply_to_user_id\": null,\n",
      "    \"in_reply_to_user_id_str\": null,\n",
      "    \"is_quote_status\": false,\n",
      "    \"lang\": \"es\",\n",
      "    \"metadata\": {\n",
      "        \"iso_language_code\": \"es\",\n",
      "        \"result_type\": \"recent\"\n",
      "    },\n",
      "    \"place\": null,\n",
      "    \"retweet_count\": 71,\n",
      "    \"retweeted\": false,\n",
      "    \"retweeted_status\": {\n",
      "        \"contributors\": null,\n",
      "        \"coordinates\": null,\n",
      "        \"created_at\": \"Sat Dec 15 20:19:52 +0000 2018\",\n",
      "        \"entities\": {\n",
      "            \"hashtags\": [],\n",
      "            \"symbols\": [],\n",
      "            \"urls\": [\n",
      "                {\n",
      "                    \"display_url\": \"twitter.com/i/web/status/1\\u2026\",\n",
      "                    \"expanded_url\": \"https://twitter.com/i/web/status/1074036337739587584\",\n",
      "                    \"indices\": [\n",
      "                        117,\n",
      "                        140\n",
      "                    ],\n",
      "                    \"url\": \"https://t.co/mDDlgrYadU\"\n",
      "                }\n",
      "            ],\n",
      "            \"user_mentions\": []\n",
      "        },\n",
      "        \"favorite_count\": 171,\n",
      "        \"favorited\": false,\n",
      "        \"geo\": null,\n",
      "        \"id\": 1074036337739587584,\n",
      "        \"id_str\": \"1074036337739587584\",\n",
      "        \"in_reply_to_screen_name\": null,\n",
      "        \"in_reply_to_status_id\": null,\n",
      "        \"in_reply_to_status_id_str\": null,\n",
      "        \"in_reply_to_user_id\": null,\n",
      "        \"in_reply_to_user_id_str\": null,\n",
      "        \"is_quote_status\": false,\n",
      "        \"lang\": \"es\",\n",
      "        \"metadata\": {\n",
      "            \"iso_language_code\": \"es\",\n",
      "            \"result_type\": \"recent\"\n",
      "        },\n",
      "        \"place\": null,\n",
      "        \"possibly_sensitive\": false,\n",
      "        \"retweet_count\": 71,\n",
      "        \"retweeted\": false,\n",
      "        \"source\": \"<a href=\\\"http://twitter.com/download/android\\\" rel=\\\"nofollow\\\">Twitter for Android</a>\",\n",
      "        \"text\": \"Un beb\\u00e9 \\ud83d\\udc76\\ud83c\\udffb de 12 semanas, implantado en la trompa de Falopio de su madre ... ah\\u00ed dir\\u00e1n ustedes, si es solo una bola\\u2026 https://t.co/mDDlgrYadU\",\n",
      "        \"truncated\": true,\n",
      "        \"user\": {\n",
      "            \"contributors_enabled\": false,\n",
      "            \"created_at\": \"Wed Feb 24 00:54:56 +0000 2010\",\n",
      "            \"default_profile\": false,\n",
      "            \"default_profile_image\": false,\n",
      "            \"description\": \"Cirujano. Certificado x el @CMCGAC. Por mis venas corre sangre tapat\\u00eda. Soy de @Chivas. I\\u00b4m a Twin. No disclosures.  Mis tweets son a t\\u00edtulo personal!\",\n",
      "            \"entities\": {\n",
      "                \"description\": {\n",
      "                    \"urls\": []\n",
      "                },\n",
      "                \"url\": {\n",
      "                    \"urls\": [\n",
      "                        {\n",
      "                            \"display_url\": \"researchgate.net/profile/Albert\\u2026\",\n",
      "                            \"expanded_url\": \"https://www.researchgate.net/profile/Alberto_Gonzalez_Chavez2?ev=hdr_xprf&_sg=DxEOs_Kozan0S1vKtHNsgg\",\n",
      "                            \"indices\": [\n",
      "                                0,\n",
      "                                23\n",
      "                            ],\n",
      "                            \"url\": \"https://t.co/VfKugQ3D7s\"\n",
      "                        }\n",
      "                    ]\n",
      "                }\n",
      "            },\n",
      "            \"favourites_count\": 14273,\n",
      "            \"follow_request_sent\": false,\n",
      "            \"followers_count\": 6625,\n",
      "            \"following\": false,\n",
      "            \"friends_count\": 1762,\n",
      "            \"geo_enabled\": true,\n",
      "            \"has_extended_profile\": true,\n",
      "            \"id\": 116928096,\n",
      "            \"id_str\": \"116928096\",\n",
      "            \"is_translation_enabled\": false,\n",
      "            \"is_translator\": false,\n",
      "            \"lang\": \"es\",\n",
      "            \"listed_count\": 83,\n",
      "            \"location\": \"CDMX\",\n",
      "            \"name\": \"Alberto\",\n",
      "            \"notifications\": false,\n",
      "            \"profile_background_color\": \"1C1207\",\n",
      "            \"profile_background_image_url\": \"http://abs.twimg.com/images/themes/theme1/bg.png\",\n",
      "            \"profile_background_image_url_https\": \"https://abs.twimg.com/images/themes/theme1/bg.png\",\n",
      "            \"profile_background_tile\": false,\n",
      "            \"profile_banner_url\": \"https://pbs.twimg.com/profile_banners/116928096/1496681461\",\n",
      "            \"profile_image_url\": \"http://pbs.twimg.com/profile_images/1070361023436197890/WBmTGgVu_normal.jpg\",\n",
      "            \"profile_image_url_https\": \"https://pbs.twimg.com/profile_images/1070361023436197890/WBmTGgVu_normal.jpg\",\n",
      "            \"profile_link_color\": \"587D95\",\n",
      "            \"profile_sidebar_border_color\": \"C1C9CC\",\n",
      "            \"profile_sidebar_fill_color\": \"150D05\",\n",
      "            \"profile_text_color\": \"C1C9CC\",\n",
      "            \"profile_use_background_image\": true,\n",
      "            \"protected\": false,\n",
      "            \"screen_name\": \"almagoch\",\n",
      "            \"statuses_count\": 17181,\n",
      "            \"time_zone\": null,\n",
      "            \"translator_type\": \"none\",\n",
      "            \"url\": \"https://t.co/VfKugQ3D7s\",\n",
      "            \"utc_offset\": null,\n",
      "            \"verified\": false\n",
      "        }\n",
      "    },\n",
      "    \"source\": \"<a href=\\\"http://twitter.com/download/iphone\\\" rel=\\\"nofollow\\\">Twitter for iPhone</a>\",\n",
      "    \"text\": \"RT @almagoch: Un beb\\u00e9 \\ud83d\\udc76\\ud83c\\udffb de 12 semanas, implantado en la trompa de Falopio de su madre ... ah\\u00ed dir\\u00e1n ustedes, si es solo una bola de c\\u00e9lula\\u2026\",\n",
      "    \"truncated\": false,\n",
      "    \"user\": {\n",
      "        \"contributors_enabled\": false,\n",
      "        \"created_at\": \"Tue Mar 06 17:13:57 +0000 2018\",\n",
      "        \"default_profile\": true,\n",
      "        \"default_profile_image\": false,\n",
      "        \"description\": \"Orgullosamente UNAM\",\n",
      "        \"entities\": {\n",
      "            \"description\": {\n",
      "                \"urls\": []\n",
      "            }\n",
      "        },\n",
      "        \"favourites_count\": 16,\n",
      "        \"follow_request_sent\": false,\n",
      "        \"followers_count\": 8,\n",
      "        \"following\": false,\n",
      "        \"friends_count\": 162,\n",
      "        \"geo_enabled\": false,\n",
      "        \"has_extended_profile\": true,\n",
      "        \"id\": 971071395781398528,\n",
      "        \"id_str\": \"971071395781398528\",\n",
      "        \"is_translation_enabled\": false,\n",
      "        \"is_translator\": false,\n",
      "        \"lang\": \"en\",\n",
      "        \"listed_count\": 0,\n",
      "        \"location\": \"\",\n",
      "        \"name\": \"Ginecoblasto\",\n",
      "        \"notifications\": false,\n",
      "        \"profile_background_color\": \"F5F8FA\",\n",
      "        \"profile_background_image_url\": null,\n",
      "        \"profile_background_image_url_https\": null,\n",
      "        \"profile_background_tile\": false,\n",
      "        \"profile_banner_url\": \"https://pbs.twimg.com/profile_banners/971071395781398528/1540858131\",\n",
      "        \"profile_image_url\": \"http://pbs.twimg.com/profile_images/1042978226786787328/FFiIZT_J_normal.jpg\",\n",
      "        \"profile_image_url_https\": \"https://pbs.twimg.com/profile_images/1042978226786787328/FFiIZT_J_normal.jpg\",\n",
      "        \"profile_link_color\": \"1DA1F2\",\n",
      "        \"profile_sidebar_border_color\": \"C0DEED\",\n",
      "        \"profile_sidebar_fill_color\": \"DDEEF6\",\n",
      "        \"profile_text_color\": \"333333\",\n",
      "        \"profile_use_background_image\": true,\n",
      "        \"protected\": false,\n",
      "        \"screen_name\": \"angieR0GyO\",\n",
      "        \"statuses_count\": 52,\n",
      "        \"time_zone\": null,\n",
      "        \"translator_type\": \"none\",\n",
      "        \"url\": null,\n",
      "        \"utc_offset\": null,\n",
      "        \"verified\": false\n",
      "    }\n",
      "}\n"
     ]
    }
   ],
   "source": [
    "print(json.dumps(tweets_data[0], indent=4))"
   ]
  },
  {
   "cell_type": "markdown",
   "metadata": {},
   "source": [
    "##### Selección de atributos de interés"
   ]
  },
  {
   "cell_type": "markdown",
   "metadata": {},
   "source": [
    "Los datos que queremos saber de cada tweet son los siguientes: \n",
    " - fecha, \n",
    " - usuario, \n",
    " - texto (contenido del tweet)\n",
    " - localización \n",
    " - hashtags\n",
    " - número de retweets\n",
    " - número de “me gusta”.\n",
    "\n",
    " \n",
    "Para cada tweet seleccionamos las entradas mencionadas, las cuales se irán añadiendo a un diccionario auxiliar. \n",
    "Al final de cada iteración, se añadirá este diccionario a una lista resultado que será la que se volcará en un archivo _.csv_."
   ]
  },
  {
   "cell_type": "code",
   "execution_count": 19,
   "metadata": {},
   "outputs": [],
   "source": [
    "def recortar_tweet(t):\n",
    "    \"\"\"\n",
    "    Función para extraer del objeto _json de Twitter sólo los campos que nos interesan. \n",
    "    \"\"\"\n",
    "    COLUMNAS = [\n",
    "    'created_at',\n",
    "    'text',\n",
    "    'geo',\n",
    "    'retweeted',\n",
    "    'retweet_count', \n",
    "    'favorited',\n",
    "    'favorite_count',\n",
    "    'source' \n",
    "    ]\n",
    "    \n",
    "    #diccionario del tweet, sólo con los campos de interés\n",
    "    tweet_recortado = {columna: t[columna] for columna in COLUMNAS}\n",
    "    \n",
    "    #agregamos información del usuario\n",
    "    tweet_recortado['user_name'] = t['user']['name']\n",
    "    tweet_recortado['user_location'] = t['user']['location']\n",
    "    tweet_recortado['posicion'] = 'no' #para discriminar a favor o en contra\n",
    "    \n",
    "    #agregamos información de hashtags\n",
    "    s = []\n",
    "    for c in t['entities']['hashtags']:\n",
    "        s.append(c['text'])\n",
    "    tweet_recortado['hashtags'] = s\n",
    "   \n",
    "    return tweet_recortado"
   ]
  },
  {
   "cell_type": "code",
   "execution_count": 20,
   "metadata": {},
   "outputs": [],
   "source": [
    "import pandas as pd   #importamos Pandas library \n",
    "\n",
    "#generamos un DataFrame de los Tweets almacenados sólo con los atributos de interés usando la función 'recortar_tweet'\n",
    "recortados = [recortar_tweet(t) for t in tweets_data]\n",
    "tweets = pd.DataFrame(recortados)\n",
    "#almaceamos en \n",
    "tweets.to_csv(str(searchQuerySave)+'.csv', index=False, encoding='utf8')"
   ]
  },
  {
   "cell_type": "markdown",
   "metadata": {},
   "source": [
    ">### 4.2. PREPROCESAMIENTO DE TEXTO\n",
    "\n",
    "Antes de comenzar a analizar los datos de Twitter, es necesario preprocesar los datos para eliminar términos no útiles, como los denominados _stop-words_. En términos simples, el preprocesamiento significa tomar los datos y prepararlos para obtener un resultado óptimo según nuestros objetivos. Sin embargo, empezaremos con una simple exporación de los datos."
   ]
  },
  {
   "cell_type": "markdown",
   "metadata": {},
   "source": [
    ">#### 4.2.1. Exploración de datos "
   ]
  },
  {
   "cell_type": "markdown",
   "metadata": {},
   "source": [
    "El dataset contiene los campos de interés que fueron seleccionados según el objetivo del trabajo. Éste tienen variables nunpericas y variables con datos tipo object(_string_). Algunos campos, como el **geo** (que contiene información de la geolocalización del tweet) tiene valores faltantes."
   ]
  },
  {
   "cell_type": "code",
   "execution_count": 21,
   "metadata": {},
   "outputs": [
    {
     "data": {
      "text/html": [
       "<div>\n",
       "<style scoped>\n",
       "    .dataframe tbody tr th:only-of-type {\n",
       "        vertical-align: middle;\n",
       "    }\n",
       "\n",
       "    .dataframe tbody tr th {\n",
       "        vertical-align: top;\n",
       "    }\n",
       "\n",
       "    .dataframe thead th {\n",
       "        text-align: right;\n",
       "    }\n",
       "</style>\n",
       "<table border=\"1\" class=\"dataframe\">\n",
       "  <thead>\n",
       "    <tr style=\"text-align: right;\">\n",
       "      <th></th>\n",
       "      <th>created_at</th>\n",
       "      <th>favorite_count</th>\n",
       "      <th>favorited</th>\n",
       "      <th>geo</th>\n",
       "      <th>hashtags</th>\n",
       "      <th>posicion</th>\n",
       "      <th>retweet_count</th>\n",
       "      <th>retweeted</th>\n",
       "      <th>source</th>\n",
       "      <th>text</th>\n",
       "      <th>user_location</th>\n",
       "      <th>user_name</th>\n",
       "    </tr>\n",
       "  </thead>\n",
       "  <tbody>\n",
       "    <tr>\n",
       "      <th>0</th>\n",
       "      <td>Sun Dec 16 13:01:13 +0000 2018</td>\n",
       "      <td>0</td>\n",
       "      <td>False</td>\n",
       "      <td>NaN</td>\n",
       "      <td>[]</td>\n",
       "      <td>no</td>\n",
       "      <td>71</td>\n",
       "      <td>False</td>\n",
       "      <td>&lt;a href=\"http://twitter.com/download/iphone\" r...</td>\n",
       "      <td>RT @almagoch: Un bebé 👶🏻 de 12 semanas, implan...</td>\n",
       "      <td>NaN</td>\n",
       "      <td>Ginecoblasto</td>\n",
       "    </tr>\n",
       "    <tr>\n",
       "      <th>1</th>\n",
       "      <td>Sun Dec 16 12:57:36 +0000 2018</td>\n",
       "      <td>0</td>\n",
       "      <td>False</td>\n",
       "      <td>NaN</td>\n",
       "      <td>['aborto']</td>\n",
       "      <td>no</td>\n",
       "      <td>147</td>\n",
       "      <td>False</td>\n",
       "      <td>&lt;a href=\"http://twitter.com/download/iphone\" r...</td>\n",
       "      <td>RT @porlavida2014: Con 5 semanas, midiendo 4 m...</td>\n",
       "      <td>NaN</td>\n",
       "      <td>Fernando Cordova R</td>\n",
       "    </tr>\n",
       "    <tr>\n",
       "      <th>2</th>\n",
       "      <td>Sun Dec 16 12:56:24 +0000 2018</td>\n",
       "      <td>0</td>\n",
       "      <td>False</td>\n",
       "      <td>NaN</td>\n",
       "      <td>['aborto', 'Veneto']</td>\n",
       "      <td>no</td>\n",
       "      <td>0</td>\n",
       "      <td>False</td>\n",
       "      <td>&lt;a href=\"http://twitter.com/download/android\" ...</td>\n",
       "      <td>RT @pier_pas81: Intanto sul tema dell #aborto ...</td>\n",
       "      <td>NaN</td>\n",
       "      <td>Annarosa ن</td>\n",
       "    </tr>\n",
       "    <tr>\n",
       "      <th>3</th>\n",
       "      <td>Sun Dec 16 12:53:03 +0000 2018</td>\n",
       "      <td>0</td>\n",
       "      <td>False</td>\n",
       "      <td>NaN</td>\n",
       "      <td>[]</td>\n",
       "      <td>no</td>\n",
       "      <td>71</td>\n",
       "      <td>False</td>\n",
       "      <td>&lt;a href=\"http://twitter.com/download/android\" ...</td>\n",
       "      <td>RT @almagoch: Un bebé 👶🏻 de 12 semanas, implan...</td>\n",
       "      <td>Mexico</td>\n",
       "      <td>Ana</td>\n",
       "    </tr>\n",
       "    <tr>\n",
       "      <th>4</th>\n",
       "      <td>Sun Dec 16 12:52:57 +0000 2018</td>\n",
       "      <td>0</td>\n",
       "      <td>False</td>\n",
       "      <td>NaN</td>\n",
       "      <td>['aborto']</td>\n",
       "      <td>no</td>\n",
       "      <td>87</td>\n",
       "      <td>False</td>\n",
       "      <td>&lt;a href=\"http://twitter.com/download/android\" ...</td>\n",
       "      <td>RT @CaruNicole: Gracias a este SORETE en 2019 ...</td>\n",
       "      <td>NaN</td>\n",
       "      <td>Gerardo Geisse</td>\n",
       "    </tr>\n",
       "  </tbody>\n",
       "</table>\n",
       "</div>"
      ],
      "text/plain": [
       "                       created_at  favorite_count  favorited  geo  \\\n",
       "0  Sun Dec 16 13:01:13 +0000 2018               0      False  NaN   \n",
       "1  Sun Dec 16 12:57:36 +0000 2018               0      False  NaN   \n",
       "2  Sun Dec 16 12:56:24 +0000 2018               0      False  NaN   \n",
       "3  Sun Dec 16 12:53:03 +0000 2018               0      False  NaN   \n",
       "4  Sun Dec 16 12:52:57 +0000 2018               0      False  NaN   \n",
       "\n",
       "               hashtags posicion  retweet_count  retweeted  \\\n",
       "0                    []       no             71      False   \n",
       "1            ['aborto']       no            147      False   \n",
       "2  ['aborto', 'Veneto']       no              0      False   \n",
       "3                    []       no             71      False   \n",
       "4            ['aborto']       no             87      False   \n",
       "\n",
       "                                              source  \\\n",
       "0  <a href=\"http://twitter.com/download/iphone\" r...   \n",
       "1  <a href=\"http://twitter.com/download/iphone\" r...   \n",
       "2  <a href=\"http://twitter.com/download/android\" ...   \n",
       "3  <a href=\"http://twitter.com/download/android\" ...   \n",
       "4  <a href=\"http://twitter.com/download/android\" ...   \n",
       "\n",
       "                                                text user_location  \\\n",
       "0  RT @almagoch: Un bebé 👶🏻 de 12 semanas, implan...           NaN   \n",
       "1  RT @porlavida2014: Con 5 semanas, midiendo 4 m...           NaN   \n",
       "2  RT @pier_pas81: Intanto sul tema dell #aborto ...           NaN   \n",
       "3  RT @almagoch: Un bebé 👶🏻 de 12 semanas, implan...        Mexico   \n",
       "4  RT @CaruNicole: Gracias a este SORETE en 2019 ...           NaN   \n",
       "\n",
       "            user_name  \n",
       "0        Ginecoblasto  \n",
       "1  Fernando Cordova R  \n",
       "2          Annarosa ن  \n",
       "3                 Ana  \n",
       "4      Gerardo Geisse  "
      ]
     },
     "execution_count": 21,
     "metadata": {},
     "output_type": "execute_result"
    }
   ],
   "source": [
    "df= pd.read_csv(str(searchQuerySave)+'.csv', encoding='utf8')\n",
    "df.head()"
   ]
  },
  {
   "cell_type": "code",
   "execution_count": 22,
   "metadata": {},
   "outputs": [
    {
     "name": "stdout",
     "output_type": "stream",
     "text": [
      "<class 'pandas.core.frame.DataFrame'>\n",
      "RangeIndex: 3000 entries, 0 to 2999\n",
      "Data columns (total 12 columns):\n",
      "created_at        3000 non-null object\n",
      "favorite_count    3000 non-null int64\n",
      "favorited         3000 non-null bool\n",
      "geo               2 non-null object\n",
      "hashtags          3000 non-null object\n",
      "posicion          3000 non-null object\n",
      "retweet_count     3000 non-null int64\n",
      "retweeted         3000 non-null bool\n",
      "source            3000 non-null object\n",
      "text              3000 non-null object\n",
      "user_location     1738 non-null object\n",
      "user_name         3000 non-null object\n",
      "dtypes: bool(2), int64(2), object(8)\n",
      "memory usage: 240.3+ KB\n"
     ]
    }
   ],
   "source": [
    "df.info()"
   ]
  },
  {
   "cell_type": "code",
   "execution_count": 23,
   "metadata": {},
   "outputs": [
    {
     "data": {
      "text/plain": [
       "created_at        object\n",
       "favorite_count     int64\n",
       "favorited           bool\n",
       "geo               object\n",
       "hashtags          object\n",
       "posicion          object\n",
       "retweet_count      int64\n",
       "retweeted           bool\n",
       "source            object\n",
       "text              object\n",
       "user_location     object\n",
       "user_name         object\n",
       "dtype: object"
      ]
     },
     "execution_count": 23,
     "metadata": {},
     "output_type": "execute_result"
    }
   ],
   "source": [
    "df.dtypes"
   ]
  },
  {
   "cell_type": "markdown",
   "metadata": {},
   "source": [
    ">#### 4.2.1. Normalización "
   ]
  },
  {
   "cell_type": "markdown",
   "metadata": {},
   "source": [
    "Un paso importante de preprocesamiento de los datos es la normalización. Éste es un término general que puede consistir en varios tipos de procesamiento. \n",
    "\n",
    "- Campo: **'text'**\n",
    "\n",
    "En primer lugar, se desea que cada término esté en minúscula, de modo que las palabras originialmente escritas en mayúsuculas coincidirán (por ejemplo, 'aborto' == 'Aborto'.lower ()). Por otro lado, se desea remover correctamente @mentions y #URLs. Usamos expresiones regulares para proporcionar tales excepciones.Todolo lo anterior se ha implementado dentro de la función **_clean()_**."
   ]
  },
  {
   "cell_type": "code",
   "execution_count": 25,
   "metadata": {
    "scrolled": true
   },
   "outputs": [
    {
     "name": "stderr",
     "output_type": "stream",
     "text": [
      "C:\\Users\\feden\\Anaconda3\\lib\\site-packages\\gensim\\utils.py:1212: UserWarning: detected Windows; aliasing chunkize to chunkize_serial\n",
      "  warnings.warn(\"detected Windows; aliasing chunkize to chunkize_serial\")\n"
     ]
    }
   ],
   "source": [
    "#!pip install gensim\n",
    "import gensim #importamos gensim library\n",
    "import re     #importamos re\n",
    "\n",
    "def clean(s):\n",
    "    \"\"\"\n",
    "    Función para limpiar/normalizar el campo \"text\".\n",
    "    \"\"\"\n",
    "    \n",
    "    s = gensim.utils.deaccent(s)\n",
    "    s = s.strip().lower()\n",
    "    s = s.replace(\"rt \", \" \")\n",
    "\n",
    "    #remueve mentions\n",
    "    s = re.sub(r\"@\\w+\", \" \", s)\n",
    "\n",
    "    #remueve URLs\n",
    "    s = re.sub(r\"https?://t\\.co/\\w+\", \" \", s)\n",
    "    s = re.sub(\n",
    "        r\"https?://(?:[a-zA-Z]|[0-9]|[$-_@.&+]|[!*\\(\\),]|(?:%[0-9a-fA-F][0-9a-fA-F]))+\",\n",
    "        \" \", s)\n",
    "    s = re.sub(r\",\", \" \", s)\n",
    "    s = re.sub(r\"[^A-Za-z0-9ñ()\\'\\`#]\", \" \", s)\n",
    "    s = re.sub(r\"\\(\", \" \\( \", s)\n",
    "    s = re.sub(r\"\\)\", \" \\) \", s)\n",
    "    s = re.sub(r\"\\?\", \" \\? \", s)\n",
    "    s = re.sub(r\"\\s{2,}\", \" \", s)\n",
    "\n",
    "    return s"
   ]
  },
  {
   "cell_type": "markdown",
   "metadata": {},
   "source": [
    ">#### 4.2.2. Tokenización de Tweets y remoción de \"stop-words\" "
   ]
  },
  {
   "cell_type": "markdown",
   "metadata": {},
   "source": [
    "La tokenización es uno de los pasos más básicos, pero más importantes, en el análisis de texto. El propósito de la tokenización es dividir un flujo de texto en unidades más pequeñas llamadas tokens, generalmente palabras o frases. Si bien este es un problema bien entendido con varias soluciones listas para usar de bibliotecas populares, los datos de Twitter plantean algunos desafíos debido a la naturaleza del lenguaje.\n",
    "\n",
    "Usaremos la librería NLTK de Python para tokenizar los tweets. \n",
    "\n",
    "La eliminación de _stop-words_ es otro paso importante que debe considerarse durante las etapas de preprocesamiento. Las _stop-words_ son las palabras más populares y comunes de cualquier idioma. Si bien su uso en el lenguaje es crucial, generalmente no transmiten un significado particular, especialmente si se toman fuera de contexto. Este es el caso de artículos, conjunciones, algunos adverbios, etc., que comúnmente se llaman _stop-words_. Algunas bibliotecas proporcionan palabras de parada predeterminadas para diferentes idiomas. La librería NLTK proporciona _stop-words_ predeterminadas para el idioma español.\n",
    "\n",
    "Todo lo anterior se implementa en la función _**tokenize()**_."
   ]
  },
  {
   "cell_type": "code",
   "execution_count": 28,
   "metadata": {},
   "outputs": [],
   "source": [
    "from nltk.corpus import stopwords #importamos \"stop-words\"\n",
    "\n",
    "def tokenize(s):\n",
    "    \"\"\"\n",
    "    Función para realizar la tokenización de Tweets y remoción de \"stop-words\".\n",
    "    \"\"\"\n",
    "    return [t for t in s.strip().split() if (t not in stopwords.words('spanish')\n",
    "                                             and len(t) > 1\n",
    "                                             and t[0] != '#'\n",
    "                                             and t != \"si\")]"
   ]
  },
  {
   "cell_type": "code",
   "execution_count": 30,
   "metadata": {},
   "outputs": [
    {
     "name": "stdout",
     "output_type": "stream",
     "text": [
      "[nltk_data] Downloading package stopwords to\n",
      "[nltk_data]     C:\\Users\\feden\\AppData\\Roaming\\nltk_data...\n",
      "[nltk_data]   Package stopwords is already up-to-date!\n"
     ]
    },
    {
     "data": {
      "text/plain": [
       "True"
      ]
     },
     "execution_count": 30,
     "metadata": {},
     "output_type": "execute_result"
    }
   ],
   "source": [
    "import nltk\n",
    "nltk.download('stopwords')"
   ]
  },
  {
   "cell_type": "markdown",
   "metadata": {},
   "source": [
    "El tokeniser está probablemente lejos de ser perfecto, pero le da una idea general. "
   ]
  },
  {
   "cell_type": "code",
   "execution_count": 29,
   "metadata": {},
   "outputs": [],
   "source": [
    "def get_all_tokens(df_tweets):\n",
    "    \"\"\"\n",
    "    Función para realizar Cleaning + Tokenizing + Removing Stop-Words .\n",
    "    \"\"\"\n",
    "    all_tokens = []\n",
    "    for tuit in df_tweets.text.apply(clean).unique():\n",
    "        all_tokens += tokenize(tuit) + ['.']\n",
    "    return all_tokens"
   ]
  },
  {
   "cell_type": "markdown",
   "metadata": {},
   "source": [
    "Siguiendo con el ejemplo, imprimimos una lista del campo **_'text'_** finalmente preprocesado. "
   ]
  },
  {
   "cell_type": "code",
   "execution_count": 31,
   "metadata": {
    "scrolled": true
   },
   "outputs": [
    {
     "data": {
      "text/plain": [
       "['bebe',\n",
       " '12',\n",
       " 'semanas',\n",
       " 'implantado',\n",
       " 'trompa',\n",
       " 'falopio',\n",
       " 'madre',\n",
       " 'ahi',\n",
       " 'diran',\n",
       " 'ustedes',\n",
       " 'solo',\n",
       " 'bola',\n",
       " 'celula',\n",
       " '.',\n",
       " 'semanas',\n",
       " 'midiendo',\n",
       " 'milimetros',\n",
       " 'corazon',\n",
       " 'late',\n",
       " 'capaz',\n",
       " 'negar',\n",
       " 'asesinato',\n",
       " '.',\n",
       " 'intanto',\n",
       " 'sul',\n",
       " 'tema',\n",
       " 'dell',\n",
       " 'insiste',\n",
       " 'propaganda',\n",
       " 'falsa',\n",
       " 'come',\n",
       " 'quella',\n",
       " 'della',\n",
       " 'donna',\n",
       " 'respinta',\n",
       " 'negli',\n",
       " 'ospedali',\n",
       " '.',\n",
       " 'gracias',\n",
       " 'sorete',\n",
       " '2019',\n",
       " 'va',\n",
       " 'ser',\n",
       " 'ley',\n",
       " 'importar',\n",
       " 'digan',\n",
       " 'votaron',\n",
       " 'vuelta',\n",
       " 'atras',\n",
       " '.',\n",
       " 'volete',\n",
       " 'evitare',\n",
       " 'gli',\n",
       " 'aborti',\n",
       " 'regalate',\n",
       " 'pillole',\n",
       " 'facilitate',\n",
       " 'adozioni',\n",
       " 'migliorate',\n",
       " 'condizioni',\n",
       " 'economiche',\n",
       " 'assicura',\n",
       " '.',\n",
       " 'davvero',\n",
       " 'puo',\n",
       " 'essere',\n",
       " 'diritto',\n",
       " 'pratica',\n",
       " 'che',\n",
       " 'quando',\n",
       " 'messa',\n",
       " 'in',\n",
       " 'atto',\n",
       " 'provocare',\n",
       " 'orrore',\n",
       " 'raccapriccio',\n",
       " 'da',\n",
       " 'dover',\n",
       " '.',\n",
       " 'ignorante',\n",
       " 'mente',\n",
       " 'cerrada',\n",
       " 'sos',\n",
       " 'elegir',\n",
       " 'ser',\n",
       " 'madre',\n",
       " '.',\n",
       " 'dopo',\n",
       " 'referendum',\n",
       " 'storico',\n",
       " \"l'irlanda\",\n",
       " 'legalizzato',\n",
       " \"l'#aborto\",\n",
       " 'vittoria',\n",
       " 'strappata',\n",
       " 'dopo',\n",
       " '35',\n",
       " 'anni',\n",
       " 'di',\n",
       " 'lotte',\n",
       " 'ma',\n",
       " 'ancora',\n",
       " '.',\n",
       " 'alza',\n",
       " 'voz',\n",
       " 'registrate',\n",
       " '.',\n",
       " 'ayer',\n",
       " 'aprobo',\n",
       " 'derecho',\n",
       " 'irlanda',\n",
       " 'derechos',\n",
       " 'sexuales',\n",
       " 'reproductivos',\n",
       " 'derechos',\n",
       " 'humanos',\n",
       " 'ht',\n",
       " '.',\n",
       " 'ademas',\n",
       " 'ser',\n",
       " 'sufrimiento',\n",
       " 'personal',\n",
       " 'ninguna',\n",
       " 'mujer',\n",
       " 'aborta',\n",
       " 'placer',\n",
       " 'fracaso',\n",
       " 'social',\n",
       " 'nunca',\n",
       " '.',\n",
       " 'estara',\n",
       " 'permitido',\n",
       " '12',\n",
       " 'semanas',\n",
       " 'gestacion',\n",
       " 'mujeres',\n",
       " 'deban',\n",
       " 'justificar',\n",
       " '.',\n",
       " 'lugar',\n",
       " 'dudas',\n",
       " 'crimen',\n",
       " 'execrable',\n",
       " 'abrir',\n",
       " 'ojos',\n",
       " 'mundo',\n",
       " '.',\n",
       " 'ieri',\n",
       " 'sera',\n",
       " 'sala',\n",
       " 'gremita',\n",
       " '.',\n",
       " 'viste',\n",
       " 'casas',\n",
       " 'coges',\n",
       " 'matas',\n",
       " 'semana',\n",
       " '.',\n",
       " '.',\n",
       " 'respinta',\n",
       " '23',\n",
       " 'volte',\n",
       " 'per',\n",
       " 'aborto',\n",
       " 'ma',\n",
       " 'falso',\n",
       " '.',\n",
       " 'davvero',\n",
       " 'puo',\n",
       " 'essere',\n",
       " 'diritto',\n",
       " 'pratica',\n",
       " 'che',\n",
       " 'quando',\n",
       " 'messa',\n",
       " 'in',\n",
       " 'atto',\n",
       " 'provocare',\n",
       " 'orrore',\n",
       " 'raccapriccio',\n",
       " 'tan',\n",
       " '.',\n",
       " 'aborto',\n",
       " 'mundo',\n",
       " 'islamico',\n",
       " '.',\n",
       " 'porlavida2014',\n",
       " 'semanas',\n",
       " 'midiendo',\n",
       " 'milimetros',\n",
       " 'corazon',\n",
       " 'late',\n",
       " 'capaz',\n",
       " 'negar',\n",
       " '.',\n",
       " 'in',\n",
       " 'il',\n",
       " 'parlamento',\n",
       " 'finalmente',\n",
       " 'legalizzato',\n",
       " \"l'ivg\",\n",
       " 'grazie',\n",
       " 'tutte',\n",
       " 'sorelle',\n",
       " 'irlandesi',\n",
       " 'che',\n",
       " 'ci',\n",
       " 'hanno',\n",
       " 'dimostrato',\n",
       " '.',\n",
       " 'ma',\n",
       " 'davvero',\n",
       " \"c'e\",\n",
       " 'in',\n",
       " 'giro',\n",
       " 'gente',\n",
       " 'che',\n",
       " 'trova',\n",
       " 'scandaloso',\n",
       " 'parlare',\n",
       " \"dell'\",\n",
       " 'scuola',\n",
       " '.',\n",
       " '.',\n",
       " 'pillola',\n",
       " 'abortiva',\n",
       " 'in',\n",
       " 'day',\n",
       " 'hospital',\n",
       " 'tutto',\n",
       " 'sotto',\n",
       " 'controllo',\n",
       " 'forse',\n",
       " '.',\n",
       " 'bisogna',\n",
       " 'mentire',\n",
       " 'per',\n",
       " 'uccidere',\n",
       " 'veneto',\n",
       " 'avevano',\n",
       " 'denunciato',\n",
       " 'presunta',\n",
       " 'odissea',\n",
       " 'di',\n",
       " 'donna',\n",
       " 'in',\n",
       " '23',\n",
       " 'ospedali',\n",
       " 'prima',\n",
       " 'di',\n",
       " 'ottene',\n",
       " '.',\n",
       " 'svolta',\n",
       " 'storica',\n",
       " 'per',\n",
       " 'liberta',\n",
       " 'delle',\n",
       " 'donne',\n",
       " 'irlandesi',\n",
       " 'dopo',\n",
       " 'il',\n",
       " 'referendum',\n",
       " 'dello',\n",
       " 'scorso',\n",
       " '25',\n",
       " 'maggio',\n",
       " 'che',\n",
       " 'abolito',\n",
       " 'norma',\n",
       " 'costitu',\n",
       " '.',\n",
       " 'dunque',\n",
       " 'questione',\n",
       " 'tutelare',\n",
       " 'il',\n",
       " 'dirittto',\n",
       " 'alla',\n",
       " 'dei',\n",
       " '.',\n",
       " 'prohibe',\n",
       " 'asesinato',\n",
       " 'tortura',\n",
       " 'animales',\n",
       " 'busca',\n",
       " 'legalizar',\n",
       " 'matanza',\n",
       " 'inocentes',\n",
       " 'vientre',\n",
       " 'materno',\n",
       " '.',\n",
       " 'entrevista',\n",
       " 'alfredo',\n",
       " 'olmedo',\n",
       " 'cuenta',\n",
       " 'postura',\n",
       " 'propuestas',\n",
       " '.',\n",
       " 'ver',\n",
       " 'entiendan',\n",
       " 'bien',\n",
       " 'derecho',\n",
       " 'caso',\n",
       " 'ley',\n",
       " 'convierte',\n",
       " 'delito',\n",
       " 'despenalizado',\n",
       " 'casos',\n",
       " '.',\n",
       " '.',\n",
       " 'ley',\n",
       " 'vacunacion',\n",
       " 'obligatoria',\n",
       " 'paises',\n",
       " 'sajones',\n",
       " 'imponen',\n",
       " 'paises',\n",
       " 'latinos',\n",
       " 'cumplen',\n",
       " 'mismos',\n",
       " '.',\n",
       " 'poveri',\n",
       " 'bambini',\n",
       " 'uccisi',\n",
       " 'tramite',\n",
       " 'non',\n",
       " 'vi',\n",
       " 'vanno',\n",
       " 'bene',\n",
       " 'perche',\n",
       " 'sono',\n",
       " 'esseri',\n",
       " 'umani',\n",
       " 'bambini',\n",
       " 'che',\n",
       " 'muoiono',\n",
       " 'ogn',\n",
       " '.',\n",
       " 'decidir',\n",
       " 'quitarle',\n",
       " 'vida',\n",
       " 'hijo',\n",
       " 'concebido',\n",
       " 'decidir',\n",
       " 'propio',\n",
       " 'cuerpo',\n",
       " 'salud',\n",
       " 'mad',\n",
       " '.',\n",
       " 'colocaron',\n",
       " '000',\n",
       " 'cruces',\n",
       " 'frente',\n",
       " 'casa',\n",
       " 'presidente',\n",
       " 'representar',\n",
       " '000',\n",
       " 'seran',\n",
       " 'abortad',\n",
       " '.',\n",
       " 'bella',\n",
       " 'aborto',\n",
       " 'sinonimo',\n",
       " 'muerte',\n",
       " 'realizado',\n",
       " 'quiere',\n",
       " '.',\n",
       " 'vicefiscal',\n",
       " 'recuerda',\n",
       " 'presunta',\n",
       " 'agresion',\n",
       " 'sexual',\n",
       " 'ocurrio',\n",
       " 'oaxaca',\n",
       " 'mes',\n",
       " 'julio',\n",
       " 'denuncia',\n",
       " 'apenas',\n",
       " '.',\n",
       " 'puedes',\n",
       " 'ir',\n",
       " 'ver',\n",
       " '6to',\n",
       " 'episodio',\n",
       " 'proyecto',\n",
       " 'venezolanos',\n",
       " 'extranjero',\n",
       " '.',\n",
       " 'panelista',\n",
       " 'gloria',\n",
       " 'fuente',\n",
       " 'trata',\n",
       " 'jose',\n",
       " 'antonio',\n",
       " 'kast',\n",
       " 'homofobico',\n",
       " 'ar',\n",
       " '.',\n",
       " 'ley',\n",
       " 'vacunacion',\n",
       " 'obligatoria',\n",
       " 'paises',\n",
       " 'sajones',\n",
       " 'imponen',\n",
       " 'paises',\n",
       " 'latinos',\n",
       " 'cumplen',\n",
       " '.',\n",
       " 'grupos',\n",
       " 'civiles',\n",
       " 'denunciaron',\n",
       " 'aprobacion',\n",
       " 'leyes',\n",
       " 'mas',\n",
       " 'extremas',\n",
       " 'unidos',\n",
       " 'derecho',\n",
       " '.',\n",
       " 'bella',\n",
       " 'aborto',\n",
       " 'sinonimo',\n",
       " 'muerte',\n",
       " 'realizado',\n",
       " 'quie',\n",
       " '.',\n",
       " 'horror',\n",
       " 'bebe',\n",
       " 'sobrevivio',\n",
       " 'varias',\n",
       " 'horas',\n",
       " 'aborto',\n",
       " 'personal',\n",
       " 'medico',\n",
       " 'quedo',\n",
       " 'shock',\n",
       " 'concordia',\n",
       " 'rios',\n",
       " '.',\n",
       " 'obispo',\n",
       " 'pide',\n",
       " 'profesionales',\n",
       " 'salud',\n",
       " 'resistan',\n",
       " 'nueva',\n",
       " 'ley',\n",
       " '.',\n",
       " 'aborto',\n",
       " 'mundo',\n",
       " 'islamico',\n",
       " '.',\n",
       " 'momento',\n",
       " 'denunciar',\n",
       " 'caso',\n",
       " 'abuso',\n",
       " 'convierte',\n",
       " 'bandera',\n",
       " 'aborto',\n",
       " 'legal',\n",
       " 'abuso',\n",
       " 'abuso',\n",
       " '.',\n",
       " 'dijimos',\n",
       " 'instigar',\n",
       " 'denuncia',\n",
       " 'abuso',\n",
       " '.',\n",
       " 'estara',\n",
       " 'permitido',\n",
       " '12',\n",
       " 'semanas',\n",
       " 'gestacion',\n",
       " 'mujeres',\n",
       " 'deban',\n",
       " 'justi',\n",
       " '.',\n",
       " 'puede',\n",
       " 'ser',\n",
       " 'aberracion',\n",
       " 'tan',\n",
       " 'profunda',\n",
       " 'provoque',\n",
       " 'festejos',\n",
       " 'emancipacion',\n",
       " 'mujer',\n",
       " 'puede',\n",
       " 'venir',\n",
       " '.',\n",
       " 'mundo',\n",
       " 'historico',\n",
       " 'aprobo',\n",
       " 'legal',\n",
       " '.',\n",
       " 'colocaron',\n",
       " '000',\n",
       " 'cruces',\n",
       " 'frente',\n",
       " 'casa',\n",
       " 'presidente',\n",
       " 'representar',\n",
       " '000',\n",
       " 'seran',\n",
       " 'ab',\n",
       " '.',\n",
       " 'diria',\n",
       " 'chistoso',\n",
       " 'dedo',\n",
       " 'ojo',\n",
       " 'preocupan',\n",
       " 'tasa',\n",
       " 'nacimiento',\n",
       " 'estan',\n",
       " 'favor',\n",
       " '.',\n",
       " 'pueden',\n",
       " 'entender',\n",
       " 'proceso',\n",
       " 'legal',\n",
       " 'denuncia',\n",
       " 'mismas',\n",
       " 'entienden',\n",
       " 'ilegal',\n",
       " 'mayoria',\n",
       " '.',\n",
       " 'unico',\n",
       " 'diario',\n",
       " 'respalda',\n",
       " 'diario',\n",
       " 'uso',\n",
       " 'hoja',\n",
       " 'ente',\n",
       " '.',\n",
       " 'asambleista',\n",
       " 'franklin',\n",
       " 'samaniego',\n",
       " 'debemos',\n",
       " 'sepultar',\n",
       " 'querer',\n",
       " 'legalizar',\n",
       " '.',\n",
       " 'ignorante',\n",
       " 'mente',\n",
       " 'cerrada',\n",
       " 'sos',\n",
       " 'elegir',\n",
       " 'ser',\n",
       " 'ma',\n",
       " '.',\n",
       " 'promuven',\n",
       " 'paises',\n",
       " 'deben',\n",
       " 'desapa',\n",
       " '.',\n",
       " 'literatura',\n",
       " 'menstruacion',\n",
       " 'derecho',\n",
       " 'sexualidad',\n",
       " 'empoderamiento',\n",
       " 'femenino',\n",
       " 'pudo',\n",
       " 'encontrarse',\n",
       " '.',\n",
       " 'legal',\n",
       " '.',\n",
       " '.',\n",
       " '.',\n",
       " 'dentro',\n",
       " 'parroquias',\n",
       " '\\\\(',\n",
       " 'sobretodo',\n",
       " 'mas',\n",
       " 'humildes',\n",
       " '\\\\)',\n",
       " 'existe',\n",
       " 'siquiera',\n",
       " 'piensa',\n",
       " 'tema',\n",
       " 'mujer',\n",
       " '.',\n",
       " 'approvata',\n",
       " 'legge',\n",
       " 'ora',\n",
       " 'davvero',\n",
       " 'legale',\n",
       " 'in',\n",
       " 'fino',\n",
       " '12',\n",
       " 'settimane',\n",
       " 'senza',\n",
       " 'limitazioni',\n",
       " 'previsto',\n",
       " '.',\n",
       " '.',\n",
       " '.',\n",
       " 'miembro',\n",
       " 'organizacion',\n",
       " 'catolica',\n",
       " 'asiatica',\n",
       " 'recoge',\n",
       " 'cuerpos',\n",
       " 'ninos',\n",
       " 'asesinados',\n",
       " 'voluntario',\n",
       " '.',\n",
       " 'irlanda',\n",
       " 'aprobo',\n",
       " 'legalizacion',\n",
       " 'aborto',\n",
       " 'ver',\n",
       " 'mas',\n",
       " '.',\n",
       " 'bebe',\n",
       " '12',\n",
       " 'semanas',\n",
       " 'implantado',\n",
       " 'trompa',\n",
       " 'falopio',\n",
       " 'madre',\n",
       " 'ahi',\n",
       " 'diran',\n",
       " 'ustedes',\n",
       " 'solo',\n",
       " 'bola',\n",
       " '.',\n",
       " 'parlamento',\n",
       " 'aprueba',\n",
       " 'borrador',\n",
       " 'legalizacion',\n",
       " '.',\n",
       " 'donne',\n",
       " \"d'irlanda\",\n",
       " 'hanno',\n",
       " 'vinto',\n",
       " \"l'#aborto\",\n",
       " 'sara',\n",
       " 'legalizzato',\n",
       " 'lotta',\n",
       " 'paga',\n",
       " '.',\n",
       " 'excelente',\n",
       " 'video',\n",
       " 'do',\n",
       " 'assistam',\n",
       " 'repassem',\n",
       " '.',\n",
       " 'violencia',\n",
       " 'cesa',\n",
       " 'cada',\n",
       " '32',\n",
       " 'horas',\n",
       " 'hablar',\n",
       " 'entonces',\n",
       " 'callejero',\n",
       " 'trabaj',\n",
       " '.',\n",
       " 'semanas',\n",
       " 'midiendo',\n",
       " 'milimetros',\n",
       " 'corazon',\n",
       " 'late',\n",
       " 'capaz',\n",
       " 'negar',\n",
       " 'asesinato',\n",
       " '.',\n",
       " '21',\n",
       " 'historias',\n",
       " 'reales',\n",
       " 'mujeres',\n",
       " 'interrumpieron',\n",
       " 'embarazo',\n",
       " 'experiencia',\n",
       " 'puede',\n",
       " 'resumir',\n",
       " 'todas',\n",
       " 'exp',\n",
       " '.',\n",
       " 'il',\n",
       " 'dirigente',\n",
       " 'scolastico',\n",
       " 'liceo',\n",
       " 'galilei',\n",
       " 'di',\n",
       " 'monopoli',\n",
       " '\\\\(',\n",
       " 'bari',\n",
       " '\\\\)',\n",
       " 'pubblico',\n",
       " 'ufficiale',\n",
       " 'come',\n",
       " 'tale',\n",
       " 'puo',\n",
       " 'violare',\n",
       " 'legge',\n",
       " 'perme',\n",
       " '.',\n",
       " 'cierto',\n",
       " 'violacion',\n",
       " 'representa',\n",
       " 'millone',\n",
       " '.',\n",
       " '.',\n",
       " '.',\n",
       " 'muerte',\n",
       " 'soldados',\n",
       " 'civiles',\n",
       " 'guerra',\n",
       " 'siempre',\n",
       " 'tragedia',\n",
       " 'grafico',\n",
       " 'medio',\n",
       " 're',\n",
       " '.',\n",
       " 'metodo',\n",
       " 'mas',\n",
       " 'habitual',\n",
       " 'practicar',\n",
       " 'explicado',\n",
       " 'ex',\n",
       " 'medico',\n",
       " 'abortista',\n",
       " 'anthony',\n",
       " 'levantino',\n",
       " '.',\n",
       " 'tradicion',\n",
       " 'sagrada',\n",
       " 'mundo',\n",
       " 'moderno',\n",
       " '.',\n",
       " 'izquierda',\n",
       " 'importa',\n",
       " 'bienestar',\n",
       " 'social',\n",
       " 'mexicanos',\n",
       " 'izquierda',\n",
       " 'solo',\n",
       " 'importa',\n",
       " 'cumplir',\n",
       " 'agenda',\n",
       " '.',\n",
       " 'fernanda',\n",
       " 'chavez',\n",
       " 'nera',\n",
       " 'lesbica',\n",
       " 'abitante',\n",
       " 'delle',\n",
       " 'favelas',\n",
       " 'figura',\n",
       " 'che',\n",
       " 'emerge',\n",
       " 'dentro',\n",
       " 'reazione',\n",
       " 'antidemocrat',\n",
       " '.',\n",
       " 'intanto',\n",
       " 'sul',\n",
       " 'tema',\n",
       " 'dell',\n",
       " 'insiste',\n",
       " 'propaganda',\n",
       " 'falsa',\n",
       " 'come',\n",
       " 'quella',\n",
       " 'della',\n",
       " 'donna',\n",
       " 'respinta',\n",
       " 'negli',\n",
       " 'ospedali',\n",
       " '.',\n",
       " 'ma',\n",
       " 'davvero',\n",
       " \"c'e\",\n",
       " 'in',\n",
       " 'giro',\n",
       " 'gente',\n",
       " 'che',\n",
       " 'trova',\n",
       " 'scandaloso',\n",
       " 'parlare',\n",
       " \"dell'\",\n",
       " 'scuola',\n",
       " '.',\n",
       " 'questione',\n",
       " 'che',\n",
       " 'aveva',\n",
       " 'fatto',\n",
       " 'scalpore',\n",
       " 'il',\n",
       " 'servizio',\n",
       " 'di',\n",
       " 'lucia',\n",
       " 'cappelletti',\n",
       " 'montato',\n",
       " 'da',\n",
       " 'andrea',\n",
       " 'giorgio',\n",
       " '.',\n",
       " '.',\n",
       " 'svolta',\n",
       " 'storica',\n",
       " 'per',\n",
       " 'liberta',\n",
       " 'delle',\n",
       " 'donne',\n",
       " 'irlandesi',\n",
       " 'dopo',\n",
       " 'il',\n",
       " 'referendum',\n",
       " 'dello',\n",
       " 'scorso',\n",
       " '25',\n",
       " 'maggio',\n",
       " 'che',\n",
       " 'abolito',\n",
       " '.',\n",
       " '.',\n",
       " 'cierto',\n",
       " 'violacion',\n",
       " 'representa',\n",
       " '.',\n",
       " 'crimen',\n",
       " 'legal',\n",
       " 'irlanda',\n",
       " '.',\n",
       " 'cattolicissima',\n",
       " 'legalizza',\n",
       " 'potra',\n",
       " 'abortire',\n",
       " 'fino',\n",
       " 'alla',\n",
       " '12',\n",
       " 'settimana',\n",
       " 'ma',\n",
       " 'anche',\n",
       " 'in',\n",
       " 'caso',\n",
       " 'di',\n",
       " 'pericolo',\n",
       " 'di',\n",
       " '.',\n",
       " 'bisogna',\n",
       " 'mentire',\n",
       " 'per',\n",
       " 'uccidere',\n",
       " 'veneto',\n",
       " 'avevano',\n",
       " 'denunciato',\n",
       " 'presunta',\n",
       " 'odissea',\n",
       " 'di',\n",
       " 'donna',\n",
       " 'in',\n",
       " '23',\n",
       " 'ospedali',\n",
       " 'prima',\n",
       " 'di',\n",
       " 'ot',\n",
       " '.',\n",
       " 'tema',\n",
       " 'salud',\n",
       " 'cura',\n",
       " 'eufemismo',\n",
       " 'interrupcion',\n",
       " 'embarazo',\n",
       " 'pu',\n",
       " '.',\n",
       " 'tema',\n",
       " 'salud',\n",
       " 'cura',\n",
       " 'eufemismo',\n",
       " 'interrupcion',\n",
       " 'embarazo',\n",
       " 'porq',\n",
       " '.',\n",
       " 'conquiste',\n",
       " 'come',\n",
       " 'questa',\n",
       " 'non',\n",
       " 'devono',\n",
       " 'mai',\n",
       " 'dare',\n",
       " 'per',\n",
       " 'acquisite',\n",
       " 'scontate',\n",
       " 'bisogna',\n",
       " 'tenere',\n",
       " 'alta',\n",
       " 'guardia',\n",
       " 'impegnarsi',\n",
       " 'per',\n",
       " 'affe',\n",
       " '.',\n",
       " 'retwittiamo',\n",
       " 'tutti',\n",
       " 'licenziamento',\n",
       " 'dei',\n",
       " 'responsabili',\n",
       " '.',\n",
       " 'mulher',\n",
       " 'quero',\n",
       " 'abortar',\n",
       " 'meu',\n",
       " 'corpo',\n",
       " 'namorado',\n",
       " 'nao',\n",
       " 'quero',\n",
       " 'pagar',\n",
       " 'pensao',\n",
       " 'ou',\n",
       " 'ter',\n",
       " 'um',\n",
       " 'filho',\n",
       " 'seu',\n",
       " 'aborta',\n",
       " 'estranhos',\n",
       " 'mas',\n",
       " '.',\n",
       " '.',\n",
       " 'mulher',\n",
       " 'quero',\n",
       " 'abortar',\n",
       " 'meu',\n",
       " 'corpo',\n",
       " 'namorado',\n",
       " 'nao',\n",
       " 'quero',\n",
       " 'pagar',\n",
       " 'pensao',\n",
       " 'ou',\n",
       " 'ter',\n",
       " 'um',\n",
       " 'filho',\n",
       " 'seu',\n",
       " 'aborta',\n",
       " 'estra',\n",
       " '.',\n",
       " 'esencia',\n",
       " 'odio',\n",
       " 'profundo',\n",
       " 'condicion',\n",
       " 'femenina',\n",
       " 'llamaba',\n",
       " 'envi',\n",
       " '.',\n",
       " 'questione',\n",
       " 'che',\n",
       " 'aveva',\n",
       " 'fatto',\n",
       " 'scalpore',\n",
       " 'il',\n",
       " 'servizio',\n",
       " 'di',\n",
       " 'lucia',\n",
       " 'cappelletti',\n",
       " 'montato',\n",
       " 'da',\n",
       " 'andrea',\n",
       " '.',\n",
       " 'metodo',\n",
       " 'mas',\n",
       " 'habitual',\n",
       " 'practicar',\n",
       " 'explicado',\n",
       " 'ex',\n",
       " 'medico',\n",
       " 'abortista',\n",
       " 'anthony',\n",
       " 'levantino',\n",
       " '.',\n",
       " 'dicono',\n",
       " 'grave',\n",
       " 'che',\n",
       " 'siano',\n",
       " 'fatte',\n",
       " 'vedere',\n",
       " 'delle',\n",
       " 'immagini',\n",
       " 'cruente',\n",
       " 'scandalizzano',\n",
       " 'perche',\n",
       " '.',\n",
       " 'nueva',\n",
       " 'viene',\n",
       " 'construyendo',\n",
       " 'politica',\n",
       " 'populista',\n",
       " 'beneficio',\n",
       " 'puebl',\n",
       " '.',\n",
       " 'il',\n",
       " 'parlamento',\n",
       " 'irlandese',\n",
       " 'approva',\n",
       " 'legge',\n",
       " \"sull'\",\n",
       " 'fine',\n",
       " 'dei',\n",
       " 'divieti',\n",
       " 'piu',\n",
       " 'longevi',\n",
       " \"d'europa\",\n",
       " '.',\n",
       " 'ver',\n",
       " ...]"
      ]
     },
     "execution_count": 31,
     "metadata": {},
     "output_type": "execute_result"
    }
   ],
   "source": [
    "# Prepare lista de textos a analizar\n",
    "lista_texto=get_all_tokens(df)\n",
    "lista_texto"
   ]
  },
  {
   "cell_type": "markdown",
   "metadata": {},
   "source": [
    ">### 4.3. ANÁLISIS\n",
    "\n",
    "Una vez que los datos del texto están preprocesados, ahora podemos continuar con los diferentes objetivos de análisis.\n",
    "Para ello, realizaremos la búsqueda (_search_) para dos hashtags distintos de la lista de hashtag posibles, que a priori, son opuestos; a saber: **#NoAlAborto** y **#AbortoLegal**.\n",
    "\n",
    "A continuación se presentan los scripts completos para el análisis de cada búsqueda."
   ]
  },
  {
   "cell_type": "code",
   "execution_count": 37,
   "metadata": {},
   "outputs": [],
   "source": [
    "#-------------------------------------------------------------------------\n",
    "#----------------------------INICIALIZACIÓN\n",
    "#-------------------------------------------------------------------------"
   ]
  },
  {
   "cell_type": "code",
   "execution_count": 1,
   "metadata": {},
   "outputs": [
    {
     "name": "stderr",
     "output_type": "stream",
     "text": [
      "C:\\Users\\feden\\Anaconda3\\lib\\site-packages\\gensim\\utils.py:1212: UserWarning: detected Windows; aliasing chunkize to chunkize_serial\n",
      "  warnings.warn(\"detected Windows; aliasing chunkize to chunkize_serial\")\n"
     ]
    }
   ],
   "source": [
    "#IMPORTACIÓN DE LIBRERÍAS\n",
    "#-------------------------------------------------------------------------\n",
    "import pandas as pd\n",
    "import numpy as np\n",
    "\n",
    "import json\n",
    "import jsonpickle\n",
    "\n",
    "import tweepy\n",
    "import requests\n",
    "\n",
    "import re\n",
    "from nltk.corpus import stopwords\n",
    "import nltk\n",
    "import gensim\n",
    "\n",
    "import matplotlib.pyplot as plt\n",
    "import seaborn as sns\n",
    "from wordcloud import WordCloud \n",
    "\n",
    "from textblob import TextBlob"
   ]
  },
  {
   "cell_type": "code",
   "execution_count": 2,
   "metadata": {},
   "outputs": [],
   "source": [
    "#ACCESO A REST API TWITTER\n",
    "#-------------------------------------------------------------------------\n",
    "\n",
    "# Registro de aplicación - Proceso de autorización \n",
    "from credentials import *  \n",
    "\n",
    "# Acceso a los datos\n",
    "import tweepy       #importamos Tweepy library\n",
    "\n",
    "try:\n",
    "    #Autenticación y acceso usando claves:\n",
    "        #pasa las keys para autenticar\n",
    "    auth=tweepy.OAuthHandler(CONSUMER_KEY,CONSUMER_SECRET)\n",
    "        #pasa el acceso secreto para validar\n",
    "    auth.set_access_token(ACCESS_TOKEN, ACCESS_SECRET)\n",
    "    \n",
    "    #Retornar API con autorización: \n",
    "    api=tweepy.API(auth, wait_on_rate_limit=True, wait_on_rate_limit_notify=True, compression=True)\n",
    "        # wait_on_rate_limit= True: hará que la api espere automáticamente a hasta que se repongan los límites de peticiones.\n",
    "        # wait_on_rate_limit_notify= Ture: hará que la API imprima una notificación cuando Tweepy esté esperando a que se repongan los límites de peticiones\n",
    "except:\n",
    "    print (\"Error:Problemas de conexión/autenticación con la API\")"
   ]
  },
  {
   "cell_type": "code",
   "execution_count": 3,
   "metadata": {},
   "outputs": [
    {
     "data": {
      "text/plain": [
       "{'/search/tweets': {'limit': 180, 'remaining': 180, 'reset': 1545089219}}"
      ]
     },
     "execution_count": 3,
     "metadata": {},
     "output_type": "execute_result"
    }
   ],
   "source": [
    "#Chequeo de cuántos query quedan para poder seguir operando\n",
    "api.rate_limit_status()['resources']['search']"
   ]
  },
  {
   "cell_type": "code",
   "execution_count": 4,
   "metadata": {},
   "outputs": [],
   "source": [
    "#FUNCIONES AD-HOC\n",
    "#-------------------------------------------------------------------------\n",
    "def recortar_tweet(t):\n",
    "    \"\"\"\n",
    "    Función para extraer del objeto _json de Twitter sólo los campos que nos interesan. \n",
    "    \"\"\"\n",
    "    COLUMNAS = [\n",
    "    'created_at',\n",
    "    'text',\n",
    "    'geo',\n",
    "    'retweeted',\n",
    "    'retweet_count', \n",
    "    'favorited',\n",
    "    'favorite_count',\n",
    "    'source' \n",
    "    ]\n",
    "    #diccionario del tweet, sólo con los campos de interés\n",
    "    tweet_recortado = {columna: t[columna] for columna in COLUMNAS}\n",
    "    #agregamos información del usuario\n",
    "    tweet_recortado['user_name'] = t['user']['name']\n",
    "    tweet_recortado['user_location'] = t['user']['location']\n",
    "    tweet_recortado['posicion'] = 'no' #para discriminar a favor o en contra\n",
    "    #agregamos información de hashtags\n",
    "    s = []\n",
    "    for c in t['entities']['hashtags']:\n",
    "        s.append(c['text'])\n",
    "    tweet_recortado['hashtags'] = s\n",
    "   \n",
    "    return tweet_recortado\n",
    "\n",
    "def clean(s):\n",
    "    \"\"\"\n",
    "    Función para limpiar/normalizar el campo \"text\".\n",
    "    \"\"\"\n",
    "    s = gensim.utils.deaccent(s)\n",
    "    s = s.strip().lower()\n",
    "    s = s.replace(\"rt \", \" \")\n",
    "    #remueve mentions\n",
    "    s = re.sub(r\"@\\w+\", \" \", s)\n",
    "    #remueve URLs\n",
    "    s = re.sub(r\"https?://t\\.co/\\w+\", \" \", s)\n",
    "    s = re.sub(\n",
    "        r\"https?://(?:[a-zA-Z]|[0-9]|[$-_@.&+]|[!*\\(\\),]|(?:%[0-9a-fA-F][0-9a-fA-F]))+\",\n",
    "        \" \", s)\n",
    "    s = re.sub(r\",\", \" \", s)\n",
    "    s = re.sub(r\"[^A-Za-z0-9ñ()\\'\\`#]\", \" \", s)\n",
    "    s = re.sub(r\"\\(\", \" \\( \", s)\n",
    "    s = re.sub(r\"\\)\", \" \\) \", s)\n",
    "    s = re.sub(r\"\\?\", \" \\? \", s)\n",
    "    s = re.sub(r\"\\s{2,}\", \" \", s)\n",
    "\n",
    "    return s\n",
    "\n",
    "def a_fecha(df):\n",
    "    \"\"\"\n",
    "    Función para convertir el campo \"created_at\"  fecha.\n",
    "    \"\"\"\n",
    "    df['created_at'] = pd.to_datetime(df['created_at'], format=\"%a %b %d %H:%M:%S +0000 %Y\")\n",
    "\n",
    "def tokenize(s):\n",
    "    \"\"\"\n",
    "    Función para realizar la tokenización de Tweets y remoción de \"stop-words\".\n",
    "    \"\"\"\n",
    "    return [t for t in s.strip().split() if (t not in stopwords.words('spanish')\n",
    "                                             and len(t) > 1\n",
    "                                             and t[0] != '#'\n",
    "                                             and t != \"si\")]\n",
    "\n",
    "def get_all_tokens(df_tweets):\n",
    "    \"\"\"\n",
    "    Función para realizar Cleaning + Tokenizing + Removing Stop-Words .\n",
    "    \"\"\"\n",
    "    all_tokens = []\n",
    "    for tuit in df_tweets.text.apply(clean).unique():\n",
    "        all_tokens += tokenize(tuit) + ['.']\n",
    "    return all_tokens\n",
    "\n",
    "def get_tweet_sentiment(tweet):\n",
    "    \"\"\"\n",
    "    Función para clasificar el sentimiento de un tweet usando el métodod de TextBlob.\n",
    "    \"\"\"\n",
    "    analysis = TextBlob(clean(tweet))\n",
    "    \n",
    "    #set sentiments\n",
    "    if analysis.sentiment.polarity > 0:\n",
    "        return 'Positivo'\n",
    "    elif analysis.sentiment.polarity == 0:\n",
    "        return 'Neutral'\n",
    "    else:\n",
    "        return 'Negativo'\n",
    "    \n",
    "def get_tweet_polarity(tweet):\n",
    "    \"\"\"\n",
    "    Función para obtener la polaridad del sentimiento de un tweet usando el métodod de TextBlob.\n",
    "    \"\"\"\n",
    "    analysis = TextBlob(clean(tweet))\n",
    "    polaridad= analysis.sentiment.polarity\n",
    "    return polaridad"
   ]
  },
  {
   "cell_type": "code",
   "execution_count": 5,
   "metadata": {},
   "outputs": [],
   "source": [
    "#HASHTAGS DE INTERÉS\n",
    "#-------------------------------------------------------------------------\n",
    "words=[\n",
    "# sin orientación explícita \n",
    "'#aborto',\n",
    "'#AbortoSesiónHistórica',\n",
    "\n",
    "#a favor (a priori)\n",
    "'#AbortoLegal',\n",
    "'#AbortoLegalYa',\n",
    "'#UnGritoGlobal',\n",
    "'#AbortoSeraLey',\n",
    "'#quesealey',\n",
    " \n",
    "#en contra (a priori)\n",
    "'#NoAlAborto',\n",
    "'#SalvemosLasDosVidas',\n",
    "'#QueNoTeEngañen',\n",
    "'#AbortoEsTorturaYMuerte',\n",
    "'#AbortoNoEsDerecho'\n",
    "]"
   ]
  },
  {
   "cell_type": "code",
   "execution_count": null,
   "metadata": {},
   "outputs": [],
   "source": [
    "#-------------------------------------------------------------------------\n",
    "#----------------------------EXTRACCIÓN DE INFORMACIÓN PARA ANÁLISIS\n",
    "#-------------------------------------------------------------------------"
   ]
  },
  {
   "cell_type": "code",
   "execution_count": 9,
   "metadata": {},
   "outputs": [
    {
     "name": "stderr",
     "output_type": "stream",
     "text": [
      "Rate limit reached. Sleeping for: 743\n"
     ]
    },
    {
     "name": "stdout",
     "output_type": "stream",
     "text": [
      "Downloaded 3000 tweets\n",
      "Cantidad de 3000 tweets\n"
     ]
    }
   ],
   "source": [
    "#NoAlAborto\n",
    "#-----------------------------------------------------------------------------------------------------------------------\n",
    "\n",
    "searchQuery =  words[7] #Hashtag #NoAlAborto\n",
    "searchQuerySave=searchQuery.replace('#','')\n",
    "\n",
    "maxTweets = 3000\n",
    "tweetsPerQry = 100\n",
    "\n",
    "tweetCount = 0\n",
    "with open( str(searchQuerySave)+'.json', 'w') as f:\n",
    "    f.write('[')\n",
    "    for tweet in tweepy.Cursor(api.search,q=searchQuery).items(maxTweets) :         \n",
    "        #Escritura del json\n",
    "        f.write(jsonpickle.encode(tweet._json, unpicklable=False) + '\\n' )\n",
    "        tweetCount += 1\n",
    "        if tweetCount < maxTweets:\n",
    "            f.write(',') \n",
    "        ;\n",
    "    f.write(']')   \n",
    "print(\"Downloaded {0} tweets\".format(tweetCount))\n",
    "\n",
    "\n",
    "file_name = str(searchQuerySave)+'.json'\n",
    "tweets_file = open(file_name, \"r\",encoding=\"utf8\")\n",
    "tweets_data = json.load(tweets_file)\n",
    "print(\"Cantidad de {0} tweets\".format(len(tweets_data)))\n",
    "\n",
    "recortados = [recortar_tweet(t) for t in tweets_data]\n",
    "tweets = pd.DataFrame(recortados)\n",
    "tweets.to_csv(str(searchQuerySave)+'.csv', index=False, encoding='utf8')\n",
    "\n",
    "#Archivo CSV final para análisis\n",
    "tweets_no = pd.read_csv(str(searchQuerySave)+'.csv', encoding='utf8')"
   ]
  },
  {
   "cell_type": "code",
   "execution_count": null,
   "metadata": {},
   "outputs": [],
   "source": [
    "#AbortoLegal\n",
    "#-----------------------------------------------------------------------------------------------------------------------\n",
    "\n",
    "searchQuery =  words[2] #Hashtag #AbortoLegal\n",
    "searchQuerySave=searchQuery.replace('#','')\n",
    "\n",
    "maxTweets = 3000 #Tener en cuenta que rompe si Downloaded tweets es menor que maxTweets \n",
    "tweetsPerQry = 100\n",
    "\n",
    "tweetCount = 0\n",
    "with open( str(searchQuerySave)+'.json', 'w') as f:\n",
    "    f.write('[')\n",
    "    for tweet in tweepy.Cursor(api.search,q=searchQuery).items(maxTweets) :         \n",
    "        #Escritura del json\n",
    "        f.write(jsonpickle.encode(tweet._json, unpicklable=False) + '\\n' )\n",
    "        tweetCount += 1\n",
    "        if tweetCount < maxTweets:\n",
    "            f.write(',') \n",
    "        ;\n",
    "    f.write(']')   \n",
    "print(\"Downloaded {0} tweets\".format(tweetCount))\n",
    "\n",
    "\n",
    "file_name = str(searchQuerySave)+'.json'\n",
    "tweets_file = open(file_name, \"r\",encoding=\"utf8\")\n",
    "tweets_data = json.load(tweets_file)\n",
    "print(\"Cantidad de {0} tweets\".format(len(tweets_data)))\n",
    "\n",
    "recortados = [recortar_tweet(t) for t in tweets_data]\n",
    "tweets = pd.DataFrame(recortados)\n",
    "tweets.to_csv(str(searchQuerySave)+'.csv', index=False, encoding='utf8')\n",
    "\n",
    "#Archivo CSV final para análisis\n",
    "tweets_si = pd.read_csv(str(searchQuerySave)+'.csv', encoding='utf8')"
   ]
  },
  {
   "cell_type": "code",
   "execution_count": 6,
   "metadata": {},
   "outputs": [],
   "source": [
    "#-------------------------------------------------------------------------\n",
    "#----------------------------NOTA PARA CORRER LOS ANÁLISIS\n",
    "#-------------------------------------------------------------------------\n",
    "#Para no recolectar de nuevo los datos, usamos los archivos ya generados.\n",
    "tweets_si = pd.read_csv('AbortoLegal.csv', encoding='utf8')\n",
    "tweets_no = pd.read_csv('NoAlAborto.csv', encoding='utf8')"
   ]
  },
  {
   "cell_type": "markdown",
   "metadata": {},
   "source": [
    ">#### 4.3.1. Frecuencias de términos "
   ]
  },
  {
   "cell_type": "markdown",
   "metadata": {},
   "source": [
    "##### Frecuencias de palabras"
   ]
  },
  {
   "cell_type": "markdown",
   "metadata": {},
   "source": [
    "A continuación se muestran los 20 términos más usados."
   ]
  },
  {
   "cell_type": "code",
   "execution_count": 7,
   "metadata": {},
   "outputs": [
    {
     "name": "stdout",
     "output_type": "stream",
     "text": [
      "Wall time: 4.54 s\n"
     ]
    },
    {
     "data": {
      "image/png": "[encoded data removed]",
      "text/plain": [
       "<Figure size 432x288 with 1 Axes>"
      ]
     },
     "metadata": {},
     "output_type": "display_data"
    }
   ],
   "source": [
    "%%time\n",
    "\n",
    "#NoAlAborto\n",
    "#-----------\n",
    "all_tokens = get_all_tokens(tweets_no)\n",
    "max_words=20\n",
    "\n",
    "wordcloud = WordCloud(normalize_plurals=False, colormap='Blues', max_words=max_words, width=800, height=400,\n",
    "                      min_font_size=12, background_color='white').generate(' '.join(all_tokens))\n",
    "\n",
    "plt.imshow(wordcloud, interpolation='bilinear', aspect='auto')\n",
    "plt.axis(\"off\")"
   ]
  },
  {
   "cell_type": "markdown",
   "metadata": {},
   "source": [
    "Para el caso **#NoAlAborto**, puede observarse que se destacan términos como (obviamente) \"aborto\", pero también \"vida\", \"ser\", etc. Además aparecen palabras como \"bebes\", \"dios\", etc. "
   ]
  },
  {
   "cell_type": "code",
   "execution_count": 8,
   "metadata": {},
   "outputs": [
    {
     "name": "stdout",
     "output_type": "stream",
     "text": [
      "Wall time: 3.44 s\n"
     ]
    },
    {
     "data": {
      "image/png": "[encoded data removed]",
      "text/plain": [
       "<Figure size 432x288 with 1 Axes>"
      ]
     },
     "metadata": {},
     "output_type": "display_data"
    }
   ],
   "source": [
    "%%time\n",
    "\n",
    "#AbortoLegal\n",
    "#-----------\n",
    "all_tokens = get_all_tokens(tweets_si)\n",
    "max_words=20\n",
    "\n",
    "wordcloud = WordCloud(normalize_plurals=False, colormap='Greens', max_words=max_words, width=800, height=400,\n",
    "                      min_font_size=12, background_color='white').generate(' '.join(all_tokens))\n",
    "\n",
    "plt.imshow(wordcloud, interpolation='bilinear', aspect='auto')\n",
    "plt.axis(\"off\")"
   ]
  },
  {
   "cell_type": "markdown",
   "metadata": {},
   "source": [
    "Para el caso **#AbortoLegal**, puede observarse que se destacan términos como (obviamente) \"aborto\", pero también \"mujeres\", \"derecho\", etc. Además aparecen palabras como \"lucha\", \"debate\", etc."
   ]
  },
  {
   "cell_type": "markdown",
   "metadata": {},
   "source": [
    "##### Fecha de tweets recopilados"
   ]
  },
  {
   "cell_type": "markdown",
   "metadata": {},
   "source": [
    "A continuación se muestra la aparición en orden temporal de los tweets de cada conjunto de datos."
   ]
  },
  {
   "cell_type": "code",
   "execution_count": 9,
   "metadata": {},
   "outputs": [
    {
     "data": {
      "image/png": "[encoded data removed]",
      "text/plain": [
       "<Figure size 1440x360 with 1 Axes>"
      ]
     },
     "metadata": {},
     "output_type": "display_data"
    },
    {
     "data": {
      "image/png": "[encoded data removed]",
      "text/plain": [
       "<Figure size 432x288 with 1 Axes>"
      ]
     },
     "metadata": {},
     "output_type": "display_data"
    }
   ],
   "source": [
    "#AbortoLegal\n",
    "#-----------\n",
    "\n",
    "#preprocesamiento del campo fechas para que pueden ser manipuadas como tipo timestamp. \n",
    "tweets_si['created_at'] = pd.to_datetime(tweets_si['created_at'], format=\"%a %b %d %H:%M:%S +0000 %Y\")\n",
    "\n",
    "dts = tweets_si['created_at']\n",
    "tweets_si['hour']= dts.dt.hour\n",
    "tweets_si['date']= dts.dt.date\n",
    "gr=tweets_si.groupby(['hour','date'])\n",
    "\n",
    "\n",
    "plt.figure(figsize=(20, 5))\n",
    "\n",
    "plt.title('Fecha de Tweets recopilados (por fecha-hora de publicación)')\n",
    "gr.count()['created_at'].plot()\n",
    "plt.ylabel('Cantidad de tweets')\n",
    "plt.xlabel('Fecha-Hora')\n",
    "\n",
    "gr.count()['created_at'].unstack().plot()\n",
    "plt.title('Tweets recopilados (por día de publicación)')\n",
    "plt.ylabel('Cantidad de tweets')\n",
    "plt.xlabel('Fecha-Hora')\n",
    "\n",
    "plt.show()\n",
    "#plt.savefig('file_name.png') #exportar imagen\n"
   ]
  },
  {
   "cell_type": "code",
   "execution_count": 10,
   "metadata": {},
   "outputs": [
    {
     "data": {
      "image/png": "[encoded data removed]",
      "text/plain": [
       "<Figure size 1440x360 with 1 Axes>"
      ]
     },
     "metadata": {},
     "output_type": "display_data"
    },
    {
     "data": {
      "image/png": "[encoded data removed]",
      "text/plain": [
       "<Figure size 432x288 with 1 Axes>"
      ]
     },
     "metadata": {},
     "output_type": "display_data"
    }
   ],
   "source": [
    "#NoAlAborto\n",
    "#-----------\n",
    "\n",
    "#preprocesamiento del campo fechas para que pueden ser manipuadas como tipo timestamp.\n",
    "tweets_no['created_at'] = pd.to_datetime(tweets_no['created_at'], format=\"%a %b %d %H:%M:%S +0000 %Y\")\n",
    "\n",
    "dts = tweets_no['created_at']\n",
    "tweets_no['hour']= dts.dt.hour\n",
    "tweets_no['date']= dts.dt.date\n",
    "grno=tweets_no.groupby(['hour','date'])\n",
    "\n",
    "\n",
    "plt.figure(figsize=(20, 5))\n",
    "\n",
    "plt.title('Fecha de Tweets recopilados (por fecha-hora de publicación)')\n",
    "grno.count()['created_at'].plot()\n",
    "plt.ylabel('Cantidad de tweets')\n",
    "plt.xlabel('Fecha-Hora')\n",
    "\n",
    "grno.count()['created_at'].unstack().plot()\n",
    "plt.title('Tweets recopilados (por día de publicación)')\n",
    "plt.ylabel('Cantidad de tweets')\n",
    "plt.xlabel('Fecha-Hora')\n",
    "\n",
    "plt.show()\n",
    "#plt.savefig('file_name.png') #exportar imagen\n"
   ]
  },
  {
   "cell_type": "markdown",
   "metadata": {},
   "source": [
    "Se puede observar que existe una tendencia a realizar post en Twitter durante la noche, con los hastags analizados."
   ]
  },
  {
   "cell_type": "markdown",
   "metadata": {},
   "source": [
    "##### Frecuencia de retweets y favoritos"
   ]
  },
  {
   "cell_type": "markdown",
   "metadata": {},
   "source": [
    "A continuación se muestran los tweets con mayor cantidad de \"me gusta\" (favoritos) y los tweets más retweeteados considerando ambos conjuntos de datos."
   ]
  },
  {
   "cell_type": "code",
   "execution_count": 11,
   "metadata": {},
   "outputs": [
    {
     "name": "stdout",
     "output_type": "stream",
     "text": [
      "Cantidad total de tweets:  6000\n",
      "Promedio de caracteres por tweet:  129.5\n",
      "\n",
      "Tweet que tuvo más LIKES: \n",
      "Katheryn Winnick diciendo que el aborto debería ser legal. 💚✊🏻 \r\n",
      "\r\n",
      "#AbortoLegal https://t.co/Vx4YvGZ4lK\n",
      "Cantidad: 6817\n",
      "\n",
      "Tweet que tuvo más RT: \n",
      "RT @SenadorLuenzo: Si los hombres tuviéramos la habilidad de procrear no estaríamos discutiendo esto. Si vamos a criminalizar a una mujer q…\n",
      "Cantidad: 11514\n"
     ]
    }
   ],
   "source": [
    "df1 = pd.read_csv('AbortoLegal.csv')\n",
    "df2 = pd.read_csv('NoAlAborto.csv')\n",
    "df = pd.concat([df1, df2])\n",
    "df = df.reset_index(drop=True)\n",
    "\n",
    "print(\"Cantidad total de tweets: \", len(df))\n",
    "promedio = np.mean([len(i) for i in df.text])\n",
    "print(\"Promedio de caracteres por tweet: \", round(promedio,1))\n",
    "print()\n",
    "\n",
    "fav_max = np.max(df['favorite_count'])\n",
    "rt_max  = np.max(df['retweet_count'])\n",
    "\n",
    "fav = df[df.favorite_count == fav_max].index[0]\n",
    "rt  = df[df.retweet_count == rt_max].index[0]\n",
    "\n",
    "\n",
    "print(\"Tweet que tuvo más LIKES: \\n{}\".format(df['text'][fav]))\n",
    "print(\"Cantidad: {}\".format(fav_max))\n",
    "print()\n",
    "\n",
    "print(\"Tweet que tuvo más RT: \\n{}\".format(df['text'][rt]))\n",
    "print(\"Cantidad: {}\".format(rt_max))"
   ]
  },
  {
   "cell_type": "markdown",
   "metadata": {},
   "source": [
    "Veamos quiénes son estas personas: \n",
    "- Katheryn Winnick es una actriz canadiense, más conocida por su rol de Lagertha en la serie Vikings.\n",
    "- Alfredo Héctor González Luenzo es un periodista, psicólogo, docente y político argentino, que actualmente se desempeña como senador nacional del partido Chubut."
   ]
  },
  {
   "cell_type": "code",
   "execution_count": 12,
   "metadata": {},
   "outputs": [
    {
     "data": {
      "image/png": "[encoded data removed]",
      "text/plain": [
       "<Figure size 1152x288 with 1 Axes>"
      ]
     },
     "metadata": {},
     "output_type": "display_data"
    }
   ],
   "source": [
    "tfav = pd.Series(data=df['favorite_count'].values, index=df['created_at'])\n",
    "\n",
    "%matplotlib inline\n",
    "tfav.plot(figsize=(16,4), label=\"favorite_count\", legend=True)\n",
    "plt.title('Cantidad de \"me gusta\" por tweet según su fecha de publicación')\n",
    "plt.ylabel('Cantidad de \"me gusta\"')\n",
    "plt.xlabel('Fecha-Hora');"
   ]
  },
  {
   "cell_type": "code",
   "execution_count": 13,
   "metadata": {},
   "outputs": [
    {
     "data": {
      "image/png": "[encoded data removed]",
      "text/plain": [
       "<Figure size 1152x288 with 1 Axes>"
      ]
     },
     "metadata": {},
     "output_type": "display_data"
    }
   ],
   "source": [
    "tret = pd.Series(data=df['retweet_count'].values, index=df['created_at'])\n",
    "\n",
    "%matplotlib inline\n",
    "tret.plot(figsize=(16,4), label=\"retweet_count\", legend=True, colormap='summer')\n",
    "plt.title('Cantidad de retweets por tweet según su fecha de publicación')\n",
    "plt.ylabel('Cantidad de retweets')\n",
    "plt.xlabel('Fecha-Hora');"
   ]
  },
  {
   "cell_type": "markdown",
   "metadata": {},
   "source": [
    ">#### 4.3.2. Análisis de subtópicos"
   ]
  },
  {
   "cell_type": "markdown",
   "metadata": {},
   "source": [
    "En esta sección, analizamos el descubrimiento automático de **tópicos** con latent Dirichlet allocation (LDA), un algoritmo popular para este tipo de tareas.\n",
    "\n",
    "Cada tópico en LDA es una colección de palabras. Cada tópico contiene todas las palabras en el corpus con una probabilidad de que la palabra pertenezca a ese tema. Entonces, si bien todas las palabras en el tópico son iguales, el peso que se les da a cada uno es diferente. Por ejemplo, fuera de la temática bajo estudio, podemos encontrar un tópico relacionado con los deportes que se compone de 40% \"baloncesto\", 35% \"fútbol\", 15% \"béisbol\", ..., 0.02% \"congreso\", y 0.01% \"Obama\" . Otro tópico relacionado con la política podría estar compuesto por 35% de \"congreso\", 30% de \"Obama\", ..., 1% de \"fútbol\", 0,1% de \"béisbol\", 0,1% de \"baloncesto\". Debido a que cada tópico contiene cada palabra, solo veremos las palabras principales al inspeccionar un tópico.\n",
    "LDA encuentra las palabras más probables para un tópico, asociando cada tema con un tema que se deja al usuario."
   ]
  },
  {
   "cell_type": "code",
   "execution_count": 14,
   "metadata": {
    "scrolled": true
   },
   "outputs": [],
   "source": [
    "#Generación de una lista con todos los tweets\n",
    "all_tweets=[]\n",
    "for i in df['text']:\n",
    "    all_tweets.append(i)"
   ]
  },
  {
   "cell_type": "code",
   "execution_count": 15,
   "metadata": {},
   "outputs": [],
   "source": [
    "# Analisis Tf-idf \n",
    "from sklearn.feature_extraction.text import CountVectorizer\n",
    "from sklearn.feature_extraction.text import TfidfTransformer\n",
    "\n",
    "from sklearn.feature_extraction import text \n",
    "\n",
    "#stop-words\n",
    "stop_words_extra = [\"rt \",\"https\",\"https://\",\"\\r\",\"\\n\",\"|\"] #le agrega más palabras\n",
    "stop_words = text.ENGLISH_STOP_WORDS.union(stopwords.words('spanish'),stop_words_extra) \n",
    "\n",
    "# Genero lo vectores de las notas\n",
    "count_vect = CountVectorizer(ngram_range = (1,3), max_df = 0.2, min_df = 0.01,stop_words=stop_words, lowercase=True)\n",
    "x_counts = count_vect.fit_transform(all_tweets)\n",
    "\n",
    "# Genero matriz con valorizacion tf-idf\n",
    "tfidf_transformer = TfidfTransformer(norm = 'l2')\n",
    "x_tfidf = tfidf_transformer.fit_transform(x_counts)"
   ]
  },
  {
   "cell_type": "code",
   "execution_count": 16,
   "metadata": {},
   "outputs": [
    {
     "name": "stderr",
     "output_type": "stream",
     "text": [
      "C:\\Users\\feden\\Anaconda3\\lib\\site-packages\\sklearn\\decomposition\\online_lda.py:536: DeprecationWarning: The default value for 'learning_method' will be changed from 'online' to 'batch' in the release 0.20. This warning was introduced in 0.18.\n",
      "  DeprecationWarning)\n"
     ]
    }
   ],
   "source": [
    "#Análisis LDA\n",
    "from sklearn.decomposition import LatentDirichletAllocation as LDA\n",
    "\n",
    "# Número de tópicos elegido\n",
    "dim = 3\n",
    "\n",
    "#Realizo LDA\n",
    "lda = LDA(n_components = dim)\n",
    "lda_array = lda.fit_transform(x_tfidf)\n",
    "\n",
    "# Labels de cada nota\n",
    "labels = [np.argmax(x) for x in lda_array]\n",
    "\n",
    "# Componentes y nombre de los feautures\n",
    "components = [lda.components_[i] for i in range(len(lda.components_))]\n",
    "features = count_vect.get_feature_names()\n",
    "\n",
    "for j in range(len(components)):\n",
    "\n",
    "    comp = components[j]\n",
    "\n",
    "    prior_features = sorted(features, key = lambda x: comp[features.index(x)], reverse = True)\n",
    "\n",
    "    # Guardo en archivos los features de cada componente ordenados por prioridad y \n",
    "    # las notas asociadas a cada tópico.\n",
    "    fp = open('LDAComponent{}.txt'.format(j),'a') #las primeras palabras de los componentes son las que me definene el tópico porque están ordenadas\n",
    "    for k in prior_features:                      \n",
    "        fp.write('{}, '.format(k))\n",
    "    fp.close()\n"
   ]
  },
  {
   "cell_type": "code",
   "execution_count": 17,
   "metadata": {},
   "outputs": [
    {
     "name": "stdout",
     "output_type": "stream",
     "text": [
      "Las primeras 10 palabras del LDAComponente0 son: \n",
      " ['derecho', 'nacer', 'vida', 'humanos', 'acá', 'ddhh', 'nacidos', 'primer', 'ddhh', 'humanos']\n",
      "\n",
      "Las primeras 10 palabras del LDAComponente1 son: \n",
      " ['thank', 'buenos', 'gilliana', 'argencomiccon', 'aires', 'buenos', 'aires', 'adios', 'buenos', 'aires']\n",
      "\n",
      "Las primeras 10 palabras del LDAComponente2 son: \n",
      " ['noalaborto', 'protocolodelamuerte', 'salvemoslas2vidas', 'mujer', 'salvemoslas2vidas', 'noalaborto', 'mauriciomacri', 'bebé', 'ahora', 'info_aborto']\n",
      "\n"
     ]
    }
   ],
   "source": [
    "#Componentes principales\n",
    "q_words=10\n",
    "text_token_all=[]\n",
    "for i in range(dim):\n",
    "    component_file=open('LDAComponent'+str(i)+'.txt',\"r\")\n",
    "    text_component=component_file.read()\n",
    "\n",
    "    text_component = text_component.replace(\",\", \" \") #remueve \",\"\n",
    "    text_token=tokenize(text_component)\n",
    "    print (\"Las primeras \"+str(q_words)+\" palabras del LDAComponente\"+str(i)+\" son: \\n\",text_token[0:q_words])\n",
    "    print()\n",
    "    \n",
    "    text_token_all.append(text_token[0:q_words])"
   ]
  },
  {
   "cell_type": "markdown",
   "metadata": {},
   "source": [
    "Eligiendo una 3 tópicos, y tomando (por ejemplo) sólo las 5 primeras palabras de cada uno, pareciera que:\n",
    "\n",
    "- Uno de los tópicos (LDAComponente2) está relacinado a una postura en contra del aborto: 'noalaborto', 'protocolodelamuerte', 'salvemoslas2vidas', etc. \n",
    "- Uno de los tópicos (LDAComponente0) está realcionado la con vida en general: \"derecho\",\"ddhh\", \"humanos\", \"nacer\", etc.\n",
    "- Uno de los tópicos (LDAComponente1) está relacionado a buenos aires. Casualmente, este fin de semana la actriz de X-Files Gillian Anderson estuvo en el país y pidió por el aborto legal en la Argentina:\n",
    "        \n",
    "    _\"Adiós Buenos Aires! Gracias a todos los que conocí durante los últimos dos días @ArgenComicCon por darme la bienvenida tan cariñosamente a su hermoso país. Y buena suerte con su justa lucha No se rindan.  #abortolegal\"_\n",
    "\n",
    "\n",
    "Téngase en cuenta que se ha aplicado una búsqueda de tópicos sobre un tema muy específico, por lo que no se esperaba tópicos muy diferentes, o hasta incluso los subtópicos encontrados podrían hasta no haberse encontrado diferenciados unos de otros (arbitrariamente, según interpretación del analista)."
   ]
  },
  {
   "cell_type": "code",
   "execution_count": 18,
   "metadata": {},
   "outputs": [],
   "source": [
    "#Sólo para representación visual"
   ]
  },
  {
   "cell_type": "code",
   "execution_count": 26,
   "metadata": {},
   "outputs": [
    {
     "data": {
      "text/plain": [
       "(-0.5, 799.5, 399.5, -0.5)"
      ]
     },
     "execution_count": 26,
     "metadata": {},
     "output_type": "execute_result"
    },
    {
     "data": {
      "image/png": "[encoded data removed]",
      "text/plain": [
       "<Figure size 432x288 with 1 Axes>"
      ]
     },
     "metadata": {},
     "output_type": "display_data"
    }
   ],
   "source": [
    "#LDAComponent0  \n",
    "quant=text_token_all[0] \n",
    "quant_expan=[]\n",
    "k=0\n",
    "for i in quant:\n",
    "    for j in range(len(quant)-k):\n",
    "        quant_expan.append(i)\n",
    "    k+=1\n",
    "\n",
    "wordcloud = WordCloud(normalize_plurals=False, colormap='viridis', max_words=20, width=800, height=400,\n",
    "                      min_font_size=12, background_color='white').generate(' '.join(quant_expan))\n",
    "plt.imshow(wordcloud, interpolation='bilinear', aspect='auto')\n",
    "plt.axis(\"off\")"
   ]
  },
  {
   "cell_type": "code",
   "execution_count": 25,
   "metadata": {},
   "outputs": [
    {
     "data": {
      "text/plain": [
       "(-0.5, 799.5, 399.5, -0.5)"
      ]
     },
     "execution_count": 25,
     "metadata": {},
     "output_type": "execute_result"
    },
    {
     "data": {
      "image/png": "[encoded data removed]",
      "text/plain": [
       "<Figure size 432x288 with 1 Axes>"
      ]
     },
     "metadata": {},
     "output_type": "display_data"
    }
   ],
   "source": [
    "#LDAComponent1  \n",
    "quant=text_token_all[1] \n",
    "quant_expan=[]\n",
    "k=0\n",
    "for i in quant:\n",
    "    for j in range(len(quant)-k):\n",
    "        quant_expan.append(i)\n",
    "    k+=1\n",
    "    \n",
    "wordcloud = WordCloud(normalize_plurals=False, colormap='viridis', max_words=20, width=800, height=400,\n",
    "                      min_font_size=12, background_color='white').generate(' '.join(quant_expan))\n",
    "plt.imshow(wordcloud, interpolation='bilinear', aspect='auto')\n",
    "plt.axis(\"off\")"
   ]
  },
  {
   "cell_type": "code",
   "execution_count": 28,
   "metadata": {
    "scrolled": true
   },
   "outputs": [
    {
     "data": {
      "text/plain": [
       "(-0.5, 799.5, 399.5, -0.5)"
      ]
     },
     "execution_count": 28,
     "metadata": {},
     "output_type": "execute_result"
    },
    {
     "data": {
      "image/png": "[encoded data removed]",
      "text/plain": [
       "<Figure size 432x288 with 1 Axes>"
      ]
     },
     "metadata": {},
     "output_type": "display_data"
    }
   ],
   "source": [
    "#LDAComponent2  \n",
    "quant=text_token_all[2] \n",
    "quant_expan=[]\n",
    "k=0\n",
    "for i in quant:\n",
    "    for j in range(len(quant)-k):\n",
    "        quant_expan.append(i)\n",
    "    k+=1\n",
    "\n",
    "    \n",
    "    \n",
    "wordcloud = WordCloud(normalize_plurals=False, colormap='viridis', max_words=20, width=800, height=400,\n",
    "                      min_font_size=12, background_color='white').generate(' '.join(quant_expan))\n",
    "plt.imshow(wordcloud, interpolation='bilinear', aspect='auto')\n",
    "plt.axis(\"off\")"
   ]
  },
  {
   "cell_type": "markdown",
   "metadata": {},
   "source": [
    ">#### 4.3.3. Análisis de sentimientos"
   ]
  },
  {
   "cell_type": "markdown",
   "metadata": {},
   "source": [
    "El análisis de sentimiento es una de los análisis más interesantes de este proyecto. \n",
    "\n",
    "El análisis de sentimiento se realiza por cada tweet publicado. Las palabras en cada tweet se puede comparar con las de otros Tweets que se han etiquetado previamente como \"positivo\" o \"negativo\", y después de ver estas palabras, el un algoritmo luego puede juzgar si el texto en el Tweet es positivo o negativo según la probabilidad de cada posibilidad. El algoritmo de Machine Learning supervisado que se propone se basa en un Clasificador de Naïve Bayes.\n",
    "\n",
    "En primer lugar, usaremos la librería _TextBlob_, la cual viene con modelos preparados para determinar el sentimiento o polaridad de un texto."
   ]
  },
  {
   "cell_type": "markdown",
   "metadata": {},
   "source": [
    "##### Etiquetado de sentimientos usando TextBlob"
   ]
  },
  {
   "cell_type": "code",
   "execution_count": 25,
   "metadata": {},
   "outputs": [],
   "source": [
    "#generamos campo de sentimiento\n",
    "df['sentiment'] = [get_tweet_sentiment(t) for t in df.text]"
   ]
  },
  {
   "cell_type": "code",
   "execution_count": 26,
   "metadata": {},
   "outputs": [
    {
     "name": "stdout",
     "output_type": "stream",
     "text": [
      "RT @INFOnews: Aborto Legal: Aministía denunció casos de violencia por usar pañuelos verdes https://t.co/XoGCogj3mW #SeVaCaer #AbortoLegal #…\n",
      "\n",
      "RT @GillianA: Adios Buenos Aires! Thank you thank you to everyone I met over the last couple days @ArgenComicCon for welcoming me so loving…\n",
      "\n",
      "Los hashtags #abortolegalya, #quesealey y #abortolegal se destacaron en esa red social. A nivel global, #metoo y… https://t.co/uyDtdbg5WP\n",
      "\n",
      "Aborto Legal: Aministía denunció casos de violencia por usar pañuelos verdes https://t.co/XoGCogj3mW #SeVaCaer… https://t.co/rynUiY1cZr\n",
      "\n",
      "RT @debnamslipz: Katheryn Winnick diciendo que el aborto debería ser legal. 💚✊🏻 \r\n",
      "\r\n",
      "#AbortoLegal https://t.co/Vx4YvGZ4lK\n",
      "\n"
     ]
    }
   ],
   "source": [
    "#imprimimos los primeros 5 Positivos\n",
    "for t in df[df['sentiment'] == 'Positivo'].text[:5]:\n",
    "    print(t + '\\n')"
   ]
  },
  {
   "cell_type": "code",
   "execution_count": 27,
   "metadata": {},
   "outputs": [
    {
     "name": "stdout",
     "output_type": "stream",
     "text": [
      "#ProtocoloDeLaMuerte\r\n",
      "Una práctica criminal.\r\n",
      "#CuidemosLasDosVidas\r\n",
      "#NoAlAborto\r\n",
      "\r\n",
      "https://t.co/lVDygo0U0U\n",
      "\n",
      "@inesands @DanielMarzaz Es horrible\r\n",
      "Satanicos iluminados y sus aberrantes planes.\r\n",
      "#NWO \r\n",
      "#NoAlAborto… https://t.co/pB6ZtI4IkT\n",
      "\n",
      "#NoAlAborto #ProtocoloDeLaMuerte Vicepresidente Gabriela Michetti: Qué no se venda Misoprostol en Argentina - ¡Firm… https://t.co/ehVMAYnpY6\n",
      "\n",
      "10 horas muriendo! Mi dios que terrible!#noalaborto https://t.co/WwefC67PsG\n",
      "\n",
      "RT @InfanciaPro: Desde cualquier lugar del Continente debemos mantener unidad y rechazar contundentemente la impunidad criminal.\r\n",
      "Que se enj…\n",
      "\n"
     ]
    }
   ],
   "source": [
    "#imprimimos los primeros 5 Negativos\n",
    "for t in df[df['sentiment'] == 'Negativo'].text[-5:]:\n",
    "    print(t + '\\n')"
   ]
  },
  {
   "cell_type": "code",
   "execution_count": 28,
   "metadata": {},
   "outputs": [
    {
     "data": {
      "text/plain": [
       "Neutral     0.669833\n",
       "Positivo    0.325333\n",
       "Negativo    0.004833\n",
       "Name: sentiment, dtype: float64"
      ]
     },
     "execution_count": 28,
     "metadata": {},
     "output_type": "execute_result"
    }
   ],
   "source": [
    "#Imprimimos Porcentajes\n",
    "df['sentiment'].value_counts(normalize=True)"
   ]
  },
  {
   "cell_type": "markdown",
   "metadata": {},
   "source": [
    "Se observa que la mayor cantidad de tweets son neutrales y a favor del aborto. La cantidad de tweets en contra del aborto representa menos del 1%."
   ]
  },
  {
   "cell_type": "code",
   "execution_count": 29,
   "metadata": {},
   "outputs": [],
   "source": [
    "#generamos campo de polaridad\n",
    "df['polarity'] = [get_tweet_polarity(t) for t in df.text]"
   ]
  },
  {
   "cell_type": "code",
   "execution_count": 30,
   "metadata": {},
   "outputs": [],
   "source": [
    "#día de Diciembre\n",
    "dia_diciembre=[]\n",
    "for i in df['created_at']:\n",
    "    dia_diciembre.append(int(i[8:10])) \n",
    "df['dia']=dia_diciembre"
   ]
  },
  {
   "cell_type": "code",
   "execution_count": 31,
   "metadata": {},
   "outputs": [
    {
     "data": {
      "image/png": "[encoded data removed]",
      "text/plain": [
       "<Figure size 432x288 with 1 Axes>"
      ]
     },
     "metadata": {},
     "output_type": "display_data"
    }
   ],
   "source": [
    "#visualización de la polaridad de tweets en función de la fecha (mes diciembre)\n",
    "sns.regplot(x=df['dia'], y=df['polarity'], fit_reg=False)\n",
    "plt.axhline(0, color=\"k\", linestyle=\"-\");\n",
    "plt.ylabel('Polaridad')\n",
    "plt.xlabel('Diciembre');\n",
    "plt.show()"
   ]
  },
  {
   "cell_type": "code",
   "execution_count": 32,
   "metadata": {},
   "outputs": [
    {
     "name": "stdout",
     "output_type": "stream",
     "text": [
      "El promedio de polaridad de los índices da: 0.07\n",
      "con un desvío estándar de: 0.12\n"
     ]
    }
   ],
   "source": [
    "print (\"El promedio de polaridad de los índices da:\", round(np.mean(df['polarity']),2))\n",
    "print (\"con un desvío estándar de:\", round(np.std(df['polarity']),2))"
   ]
  },
  {
   "cell_type": "markdown",
   "metadata": {},
   "source": [
    "##### Clasificador de sentimientos"
   ]
  },
  {
   "cell_type": "code",
   "execution_count": 33,
   "metadata": {},
   "outputs": [
    {
     "data": {
      "text/plain": [
       "MultinomialNB(alpha=5, class_prior=None, fit_prior=True)"
      ]
     },
     "execution_count": 33,
     "metadata": {},
     "output_type": "execute_result"
    }
   ],
   "source": [
    "#Extracción de features\n",
    "tweets2 = df['text'].apply(clean) #aplicamos limpieza de datos\n",
    "classes = df['sentiment']\n",
    "\n",
    "#preprocesamiento de datos \n",
    "from sklearn.feature_extraction.text import CountVectorizer\n",
    "vectorizer = CountVectorizer(analyzer=\"word\")\n",
    "freq_tweets = vectorizer.fit_transform(tweets2)\n",
    "\n",
    "#generación de modelo de ML\n",
    "from sklearn.naive_bayes import MultinomialNB\n",
    "modelo = MultinomialNB(alpha=5)\n",
    "modelo.fit(freq_tweets,classes)"
   ]
  },
  {
   "cell_type": "code",
   "execution_count": 34,
   "metadata": {},
   "outputs": [
    {
     "name": "stdout",
     "output_type": "stream",
     "text": [
      "             precision    recall  f1-score   support\n",
      "\n",
      "   Negativo       0.08      0.07      0.07        29\n",
      "    Neutral       0.98      0.98      0.98      4019\n",
      "   Positivo       0.96      0.95      0.96      1952\n",
      "\n",
      "avg / total       0.97      0.97      0.97      6000\n",
      "\n"
     ]
    }
   ],
   "source": [
    "#evaluación de modelo\n",
    "from sklearn.model_selection import cross_val_predict\n",
    "resultados = cross_val_predict(modelo, freq_tweets, classes, cv=10)\n",
    "from sklearn import metrics\n",
    "print (metrics.classification_report(classes,resultados))"
   ]
  },
  {
   "cell_type": "markdown",
   "metadata": {},
   "source": [
    ">#### 4.3.4. Geolocalización de tweets"
   ]
  },
  {
   "cell_type": "markdown",
   "metadata": {},
   "source": [
    "La información de la ubicación geográfica en Twitter está disponible de dos fuentes diferentes:\n",
    "\n",
    "- Información de etiquetado geográfico: los usuarios pueden optar por proporcionar información de ubicación para los Tweets que publican. Esta información puede ser muy precisa si el Tweet fue publicado usando un smartphone con capacidades GPS.\n",
    "\n",
    "- Perfil del usuario: la ubicación del usuario se puede extraer del campo de ubicación en el perfil del usuario.\n",
    "\n",
    "Aproximadamente el 1% de todos los tweets publicados en Twitter están geolocalizados. Esta es una porción muy pequeña de los tweets, y a menudo es necesario usar la información del perfil para determinar la ubicación del Tweet. Esta información se puede usar en diferentes visualizaciones. \n",
    "\n",
    "Un método que se puede utilizar es:\n",
    "\n",
    "La ubicación geográfica (tipo string) obtenida del perfil del usuario primero debe traducirse a coordenadas geográficas. Normalmente, se utiliza un diccionario geográfico para realizar esta tarea. Un diccionario geográfico toma un string de ubicación como entrada y devuelve las coordenadas de la ubicación que mejor se corresponde con el string. \n",
    "\n",
    "El inconveniente que observamos en nuestro caso fue que la información de Localización del usuario muy frecuentemente no sigue un formato definido, tiene errores de ortografía, texto que no corresponde a una localización, etc. \n",
    "\n",
    "Para enfrentarnos a este problema tuvimos que hacer indefectiblemente una limpieza manual de los registros, corrigiendo los errores y llevandolos a un formato interpetable. (Ver notebook anexa de limpieza para el mapeo)\n",
    "\n",
    "Luego utilizamos la aplicación Google Fusion Tables que proporciona una herramienta para geolocalizar pasandole el campo en un formato texto, el cual traduce y geolocaliza y ubica en googlemaps. \n"
   ]
  },
  {
   "cell_type": "code",
   "execution_count": 35,
   "metadata": {},
   "outputs": [],
   "source": [
    "dfsi = pd.read_csv('AbortoLegal.csv')\n",
    "dfsi = dfsi.drop(columns={'created_at', 'favorite_count', 'posicion', 'retweet_count','retweeted', 'source', 'text', 'user_name'})\n",
    "dfsi.rename(columns={\"user_location\": \"location\"}, inplace=True)\n",
    "dfsi.to_csv('AbortoSiparamapa.csv', encoding='utf-8')"
   ]
  },
  {
   "cell_type": "code",
   "execution_count": null,
   "metadata": {},
   "outputs": [],
   "source": [
    "#Imagen obtenida con la localización de los tweets de Aborto Legal\n",
    "\n",
    "from IPython.display import Image\n",
    "img = 'abortosiargcorregido.jpg'\n",
    "Image(url=img, width=1000, height=1000)"
   ]
  },
  {
   "cell_type": "code",
   "execution_count": null,
   "metadata": {},
   "outputs": [],
   "source": [
    "#Tambien los podemos ver como mapa de calor:\n",
    "\n",
    "img2 = 'abortosiargcorregido2.jpg'\n",
    "Image(url=img2, width=1000, height=1000)"
   ]
  },
  {
   "cell_type": "markdown",
   "metadata": {},
   "source": [
    "Para visualizar el mapa generado hacer clic en el siguiente link\n",
    "[Mapa Aborto Si](https://fusiontables.google.com/DataSource?docid=1LqK67YUQUuoTMDQePmlSD-qLXZlCXlOgZuVOV9WB#map:id=3)\n"
   ]
  },
  {
   "cell_type": "code",
   "execution_count": 36,
   "metadata": {},
   "outputs": [],
   "source": [
    "dfno = pd.read_csv('NoAlAborto.csv')\n",
    "dfno = dfno.drop(columns={'created_at', 'favorite_count', 'posicion', 'retweet_count','retweeted', 'source', 'text', 'user_name'})\n",
    "dfno.rename(columns={\"user_location\": \"location\"}, inplace=True)\n",
    "dfno.to_csv('AbortoNoparamapa.csv', encoding='utf-8')                 "
   ]
  },
  {
   "cell_type": "code",
   "execution_count": null,
   "metadata": {},
   "outputs": [],
   "source": [
    "#Imagen obtenida con la localización de los tweets de No Aborto Legal\n",
    "\n",
    "from IPython.display import Image\n",
    "img = 'abortonoargcorregido.jpg'\n",
    "Image(url=img, width=1000, height=1000)"
   ]
  },
  {
   "cell_type": "code",
   "execution_count": null,
   "metadata": {},
   "outputs": [],
   "source": [
    "#Tambien los podemos ver como mapa de calor:\n",
    "\n",
    "img2 = 'abortonoargcorregido2.jpg'\n",
    "Image(url=img2, width=1000, height=1000)"
   ]
  },
  {
   "cell_type": "markdown",
   "metadata": {},
   "source": [
    "Para visualizar el csv generado hacer clic en el siguiente link\n",
    "[Mapa de aborto NO](https://www.google.com/fusiontables/DataSource?docid=1QSsHJTsbqoucgYe8H4NMvVFrzwVfTsc7h0m4CXLD)"
   ]
  },
  {
   "cell_type": "markdown",
   "metadata": {},
   "source": [
    "Visualizando y comparando ambos mapas generados, podemos notar que en el caso de los users a favor de la legalización del aborto se encuentran mas concentrados en los núcleos urbanos, y hay una destacada proporción de users locales. \n",
    "Mientas que para los users en contra hay una mayor dispersión, y un gran porcentaje de users extranjeros. \n",
    "\n",
    "Intentando interpretar esta información, ya habiendose debatido y conociendo la conclusión del Congreso:\n",
    "\n",
    "Los users locales a favor de la legalización, siguen mas activamente la causa. Mientras quienes están en contra han mermado su participación.\n",
    "\n",
    "Geograficamente esta actividad se ve mayor en los centros urbanos a favor, y mas dispersa en contra. \n",
    "\n",
    "Importante cantidad de users extranjeros, en general de la región de Centroamérica."
   ]
  },
  {
   "cell_type": "markdown",
   "metadata": {},
   "source": [
    "## 4. Conclusiones"
   ]
  },
  {
   "cell_type": "markdown",
   "metadata": {},
   "source": [
    "El propósito de este trabajo ha sido la aplicación de técnicas de minería de textos sobre tweets relacionados a la temática particular del aborto, que fueron recopilados usando la API de Twitter durante la primera y segunda semana de diciembre 2018.\n",
    "\n",
    "Las actividades se centraron en la Recolección y preprocesamiento de datos, el análisis de frecuencia de términos, el descubrimiento de tópicos, análisis de sentimientos y visualización interactiva según geolocalización.\n",
    "Para llevar a cabo lo anterior, se realizaron búsquedas con los hashtags, a priori de sentimientos opuestos: '#NoAlAborto' y '#AbortoLegal'.\n",
    "\n",
    "El análisis de frecuencia de términos resultó en que:\n",
    "- para el caso #AbortoLegal, se destacan términos como (obviamente) \"aborto\", pero también \"mujeres\", \"derecho\", etc, y además aparecen palabras como \"lucha\", \"debate\", etc.\n",
    "- para el caso #NoAlAborto, se destacan términos como (obviamente) \"aborto\", pero también \"vida\", \"ser\", etc, y además aparecen palabras como \"bebes\", \"dios\", etc.\n",
    "\n",
    "Considerando 3 tópicos, el análisis de subtópicos no arrojó temáticas muy diferentes. Uno de ellos, está fuertemente relacionado a la temática del aborto, pero según la postura negativa; otro, se relaciona con la vida y los derechos humanos y el último tópico está relacionado a buenos aires, cuya explicación se asocia a las declaraciones de la actriz Gillian Anderson el fin de semana a favor del aborto legal en Argentina. \n",
    "\n",
    "El análisis de sentimientos arrojó arrojó un 67% de tweets con sentimiento Neutral, un 32% a favor del aborto y menos del 1% en contra del aborto.\n",
    "\n",
    "Del análisis de la Geolocalización se puede interpretar una conclusión socio-política en cuanto a la diferencia entre la opinión a lo largo de todo el pais y la de los centros urbanos. \n",
    "Tambien que la discusión de la legalización del aborto no es inherente a Argentina sino a toda la región, aunque claramente el foco en Argentina dado el contexto es indudablemente alto. \n",
    "\n",
    "\n",
    "Como comentario final, se quiere agregar que tal vez, la mayor dificultad del trabajo se centra en el preprocesamiento de datos. Por ejemplo,\n",
    "la tokenización es uno de los pasos más básicos, pero más importantes, en el análisis de texto. Si bien este es un problema bien entendido con varias soluciones listas para usar de bibliotecas populares, los datos de Twitter plantean algunos desafíos debido a la naturaleza del lenguaje.\n",
    "El tokeniser está probablemente lejos de ser perfecto, pero dió una idea general. La tokenización se basa en expresiones regulares (regexp), que es una opción común para este tipo de problema. Algunos tipos particulares de tokens (por ejemplo, números de teléfono o nombres químicos) no se capturarán, y probablemente se dividirán en varios tokens. Para superar este problema, así como para mejorar la riqueza del proceso de procesamiento previo, pueden mejorarse las expresiones regulares, o incluso emplearse técnicas más sofisticadas.\n"
   ]
  },
  {
   "cell_type": "markdown",
   "metadata": {},
   "source": [
    "## Recursos usados"
   ]
  },
  {
   "cell_type": "markdown",
   "metadata": {},
   "source": [
    "- Mastering Social Media Mining with Python. Marco Bonzanini. 2016 Packt Publishing.\n",
    "\n",
    "- Prácticas del curso de Data Science, Digital House.\n",
    "\n",
    "- https://developer.twitter.com\n",
    "\n",
    "- http://docs.tweepy.org/en/v3.5.0/getting_started.html "
   ]
  },
  {
   "cell_type": "markdown",
   "metadata": {},
   "source": [
    "## Glosario\n",
    "\n",
    "DEFINICIONES\n",
    "\n",
    "\n",
    "**API de Twitter** \n",
    "\n",
    "    Para la captura de datos, Twitter posee una interfaz de programación de aplicaciones a la que se realizan las llamadas correspondientes para obtener los datos que se necesitan. \n",
    "        \n",
    "**Crawler**\n",
    "\n",
    "    Programa informático dedicado a la obtención de datos de páginas Web.\n",
    "        \n",
    "**Favorito**\n",
    "       \n",
    "    Se puede añadir cómo favorito la información de otro usuario, para indicar que esa información es relevante para el usuario.\n",
    "\n",
    "**Follower**\n",
    "\n",
    "    En Twitter, usuario que “sigue” a un usuario concreto, es decir, que le establece como un usuario a cuyos mensajes quiere tener acceso y de los que quiere recibir notificaciones. \n",
    "\n",
    "**Hashtag** \n",
    "\n",
    "    En Twitter, término precedido por el carácter ‘#’ que se usa para resaltar o etiquetar la temática de la que trata el tweet generado. \n",
    "\n",
    "**Mención**\n",
    "\n",
    "    Término precedido por el carácter ‘@’ que se utiliza para referenciar a un usuario. \n",
    "\n",
    "**Microblogging**\n",
    "\n",
    "    Servicio que permite a sus usuarios enviar y publicar mensajes breves, generalmente solo de texto. Las opciones para el envío de los mensajes varían desde sitios web, a través de SMS, mensajería instantánea o aplicaciones ad-hoc. \n",
    "\n",
    "**Muro** \n",
    "\n",
    "    Tablón donde aparece toda la información que compartes. \n",
    "\n",
    "**Red social**\n",
    "\n",
    "    Es un medio de comunicación social que permite establecer contacto con otras personas por medio de la Web. Ejemplo: Facebook, Instagram, Twitter, Youtube, etc. \n",
    "    \n",
    "**Retweet**\n",
    "\n",
    "    Tweet reenviado por un usuario distinto al que envío dicho tweet. \n",
    "\n",
    "**Tipos de interacciones o Mensajes**\n",
    "\n",
    "    Acción especial que ocurre dentro de la red social de Twitter. Se diferencian las siguientes acciones. \n",
    "\n",
    "**Tweet** \n",
    "    \n",
    "    Unidad de información de Twitter; mensaje textual publicado por un usuario en Twitter constituido por un máximo de 140 caracteres.\n",
    "\n",
    "**Usuario Twitter**\n",
    " \n",
    "    Persona que tiene una cuenta en la red social de Twitter y que interacciona con ella.  \n",
    "\n",
    "**Stopword**\n",
    "\n",
    "    Es el nombre que reciben las palabras sin significado como artículos, pronombres, preposiciones, etc. que son filtradas antes o después del procesamiento de textos.\n",
    "    \n",
    "ACRÓNIMOS\n",
    "    \n",
    "**API _Application Programming Interface_**\n",
    "\n",
    "    Librería o conjunto de funciones y procedimientos a ser utilizadas por un programa informático, consiguiendo de este modo una o varias capas de abstracción en la programación de aplicaciones finales.\n",
    "\n",
    "\n",
    "**JSON _JavaScript  Object  Notation_**\n",
    "\n",
    "    Formato liviano de intercambio de datos, que se caracteriza por su simplicidad de sintaxis {“objeto”: valor}. \n",
    "\n",
    "**_OAuth_**:  \n",
    "\n",
    "    Autorización abierta. Protocolo que permite flujos simples de autorización para sitios web o aplicaciones informáticas. "
   ]
  }
 ],
 "metadata": {
  "kernelspec": {
   "display_name": "Python 3",
   "language": "python",
   "name": "python3"
  },
  "language_info": {
   "codemirror_mode": {
    "name": "ipython",
    "version": 3
   },
   "file_extension": ".py",
   "mimetype": "text/x-python",
   "name": "python",
   "nbconvert_exporter": "python",
   "pygments_lexer": "ipython3",
   "version": "3.6.5"
  }
 },
 "nbformat": 4,
 "nbformat_minor": 2
}
